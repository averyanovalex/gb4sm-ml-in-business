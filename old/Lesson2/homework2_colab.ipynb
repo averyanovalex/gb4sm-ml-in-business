{
  "nbformat": 4,
  "nbformat_minor": 0,
  "metadata": {
    "kernelspec": {
      "display_name": "Python 3",
      "language": "python",
      "name": "python3"
    },
    "language_info": {
      "codemirror_mode": {
        "name": "ipython",
        "version": 3
      },
      "file_extension": ".py",
      "mimetype": "text/x-python",
      "name": "python",
      "nbconvert_exporter": "python",
      "pygments_lexer": "ipython3",
      "version": "3.7.3"
    },
    "colab": {
      "name": "homework2_colab.ipynb",
      "provenance": [],
      "collapsed_sections": [
        "fbxpSNMMMIHY",
        "E9I1jZUDMIGh",
        "ra5jYUNoMIGm",
        "z0JACLjHMIG3",
        "_X_oDrlNMIHV"
      ]
    }
  },
  "cells": [
    {
      "cell_type": "markdown",
      "metadata": {
        "id": "Gds4vHzMMIF8"
      },
      "source": [
        "### Урок 2. Домашка"
      ]
    },
    {
      "cell_type": "markdown",
      "metadata": {
        "id": "fbxpSNMMMIHY"
      },
      "source": [
        "### Домашнее задание"
      ]
    },
    {
      "cell_type": "markdown",
      "metadata": {
        "id": "1cxL4c0tMIHZ"
      },
      "source": [
        "1. теория\n",
        "2. Модифицировать код функции get_user_embedding таким образом, чтобы считалось не среднее (как в примере np.mean), а медиана. Применить такое преобразование к данным, обучить модель прогнозирования оттока и посчитать метрики качества и сохранить их: roc auc, precision/recall/f_score (для 3 последних - подобрать оптимальный порог с помощью precision_recall_curve, как это делалось на уроке)\n",
        "3. Повторить п.2, но используя уже не медиану, а max\n",
        "4. (опциональное, если очень хочется) не стал делать\n",
        "5. Сформировать на выходе единую таблицу, сравнивающую качество 3 разных метода получения эмбедингов пользователей: mean, median, max, idf_mean по метрикам roc_auc, precision, recall, f_score\n",
        "6. Сделать самостоятельные выводы и предположения о том, почему тот или ной способ оказался эффективнее остальных"
      ]
    },
    {
      "cell_type": "markdown",
      "metadata": {
        "id": "E9I1jZUDMIGh"
      },
      "source": [
        "### Подключение библиотек. Загрузка датасетов (повторяем, что было на уроке)"
      ]
    },
    {
      "cell_type": "markdown",
      "metadata": {
        "id": "8VQatlNwZDjq"
      },
      "source": [
        "Три ячейки ниже делаем в Google Colaboratory\r\n",
        "\r\n",
        "- установим razdel\r\n",
        "- установим pymorphy2"
      ]
    },
    {
      "cell_type": "code",
      "metadata": {
        "colab": {
          "base_uri": "https://localhost:8080/"
        },
        "id": "1yqhFYoKOIIw",
        "outputId": "46d70747-68b3-4c67-bc75-3e072a8a8b76"
      },
      "source": [
        "!pip install razdel"
      ],
      "execution_count": 13,
      "outputs": [
        {
          "output_type": "stream",
          "text": [
            "Collecting razdel\n",
            "  Downloading https://files.pythonhosted.org/packages/15/2c/664223a3924aa6e70479f7d37220b3a658765b9cfe760b4af7ffdc50d38f/razdel-0.5.0-py3-none-any.whl\n",
            "Installing collected packages: razdel\n",
            "Successfully installed razdel-0.5.0\n"
          ],
          "name": "stdout"
        }
      ]
    },
    {
      "cell_type": "code",
      "metadata": {
        "colab": {
          "base_uri": "https://localhost:8080/"
        },
        "id": "-sNoY9zpOQN7",
        "outputId": "163b6899-304b-4183-9b46-88cfd74d14dd"
      },
      "source": [
        "!pip install pymorphy2"
      ],
      "execution_count": 12,
      "outputs": [
        {
          "output_type": "stream",
          "text": [
            "Collecting pymorphy2\n",
            "\u001b[?25l  Downloading https://files.pythonhosted.org/packages/07/57/b2ff2fae3376d4f3c697b9886b64a54b476e1a332c67eee9f88e7f1ae8c9/pymorphy2-0.9.1-py3-none-any.whl (55kB)\n",
            "\u001b[K     |████████████████████████████████| 61kB 2.4MB/s \n",
            "\u001b[?25hCollecting pymorphy2-dicts-ru<3.0,>=2.4\n",
            "\u001b[?25l  Downloading https://files.pythonhosted.org/packages/3a/79/bea0021eeb7eeefde22ef9e96badf174068a2dd20264b9a378f2be1cdd9e/pymorphy2_dicts_ru-2.4.417127.4579844-py2.py3-none-any.whl (8.2MB)\n",
            "\u001b[K     |████████████████████████████████| 8.2MB 7.5MB/s \n",
            "\u001b[?25hCollecting dawg-python>=0.7.1\n",
            "  Downloading https://files.pythonhosted.org/packages/6a/84/ff1ce2071d4c650ec85745766c0047ccc3b5036f1d03559fd46bb38b5eeb/DAWG_Python-0.7.2-py2.py3-none-any.whl\n",
            "Requirement already satisfied: docopt>=0.6 in /usr/local/lib/python3.6/dist-packages (from pymorphy2) (0.6.2)\n",
            "Installing collected packages: pymorphy2-dicts-ru, dawg-python, pymorphy2\n",
            "Successfully installed dawg-python-0.7.2 pymorphy2-0.9.1 pymorphy2-dicts-ru-2.4.417127.4579844\n"
          ],
          "name": "stdout"
        }
      ]
    },
    {
      "cell_type": "markdown",
      "metadata": {
        "id": "-gAbp044Zlj_"
      },
      "source": [
        "Делаем доступ к Googl Drive"
      ]
    },
    {
      "cell_type": "code",
      "metadata": {
        "colab": {
          "base_uri": "https://localhost:8080/"
        },
        "id": "wqFGM15WNUia",
        "outputId": "0e047997-bfa3-448b-9e33-cc9d9e51398c"
      },
      "source": [
        "from google.colab import drive\n",
        "drive.mount('/gdrive')"
      ],
      "execution_count": 4,
      "outputs": [
        {
          "output_type": "stream",
          "text": [
            "Mounted at /gdrive\n"
          ],
          "name": "stdout"
        }
      ]
    },
    {
      "cell_type": "code",
      "metadata": {
        "id": "ctZ-EA4UMIGh"
      },
      "source": [
        "import pandas as pd"
      ],
      "execution_count": 5,
      "outputs": []
    },
    {
      "cell_type": "markdown",
      "metadata": {
        "id": "AmhH7IAvMIGi"
      },
      "source": [
        "Наши новости"
      ]
    },
    {
      "cell_type": "code",
      "metadata": {
        "id": "gycmprucMIGi",
        "colab": {
          "base_uri": "https://localhost:8080/",
          "height": 153
        },
        "outputId": "d6fccee8-8bf9-4315-ded2-5936b9906661"
      },
      "source": [
        "news = pd.read_csv(\"/gdrive/MyDrive/Colab Notebooks/GB/gb4sm-ml-in-business/articles.csv\")\n",
        "print(news.shape)\n",
        "news.head(3)"
      ],
      "execution_count": 6,
      "outputs": [
        {
          "output_type": "stream",
          "text": [
            "(27000, 2)\n"
          ],
          "name": "stdout"
        },
        {
          "output_type": "execute_result",
          "data": {
            "text/html": [
              "<div>\n",
              "<style scoped>\n",
              "    .dataframe tbody tr th:only-of-type {\n",
              "        vertical-align: middle;\n",
              "    }\n",
              "\n",
              "    .dataframe tbody tr th {\n",
              "        vertical-align: top;\n",
              "    }\n",
              "\n",
              "    .dataframe thead th {\n",
              "        text-align: right;\n",
              "    }\n",
              "</style>\n",
              "<table border=\"1\" class=\"dataframe\">\n",
              "  <thead>\n",
              "    <tr style=\"text-align: right;\">\n",
              "      <th></th>\n",
              "      <th>doc_id</th>\n",
              "      <th>title</th>\n",
              "    </tr>\n",
              "  </thead>\n",
              "  <tbody>\n",
              "    <tr>\n",
              "      <th>0</th>\n",
              "      <td>6</td>\n",
              "      <td>Заместитель председателяnправительства РФnСерг...</td>\n",
              "    </tr>\n",
              "    <tr>\n",
              "      <th>1</th>\n",
              "      <td>4896</td>\n",
              "      <td>Матч 1/16 финала Кубка России по футболу был п...</td>\n",
              "    </tr>\n",
              "    <tr>\n",
              "      <th>2</th>\n",
              "      <td>4897</td>\n",
              "      <td>Форвард «Авангарда» Томаш Заборский прокоммент...</td>\n",
              "    </tr>\n",
              "  </tbody>\n",
              "</table>\n",
              "</div>"
            ],
            "text/plain": [
              "   doc_id                                              title\n",
              "0       6  Заместитель председателяnправительства РФnСерг...\n",
              "1    4896  Матч 1/16 финала Кубка России по футболу был п...\n",
              "2    4897  Форвард «Авангарда» Томаш Заборский прокоммент..."
            ]
          },
          "metadata": {
            "tags": []
          },
          "execution_count": 6
        }
      ]
    },
    {
      "cell_type": "code",
      "metadata": {
        "id": "R-rwGECzMIGk"
      },
      "source": [
        ""
      ],
      "execution_count": null,
      "outputs": []
    },
    {
      "cell_type": "markdown",
      "metadata": {
        "id": "H-eNWlDnMIGl"
      },
      "source": [
        "Загрузим пользователей и списки последних прочитанных новостей"
      ]
    },
    {
      "cell_type": "code",
      "metadata": {
        "id": "rIXeUk4iMIGl",
        "colab": {
          "base_uri": "https://localhost:8080/",
          "height": 137
        },
        "outputId": "fc96950b-5d00-4873-9435-cdfc17e5ef9c"
      },
      "source": [
        "users = pd.read_csv(\"/gdrive/MyDrive/Colab Notebooks/GB/gb4sm-ml-in-business/users_articles.csv\")\n",
        "users.head(3)"
      ],
      "execution_count": 7,
      "outputs": [
        {
          "output_type": "execute_result",
          "data": {
            "text/html": [
              "<div>\n",
              "<style scoped>\n",
              "    .dataframe tbody tr th:only-of-type {\n",
              "        vertical-align: middle;\n",
              "    }\n",
              "\n",
              "    .dataframe tbody tr th {\n",
              "        vertical-align: top;\n",
              "    }\n",
              "\n",
              "    .dataframe thead th {\n",
              "        text-align: right;\n",
              "    }\n",
              "</style>\n",
              "<table border=\"1\" class=\"dataframe\">\n",
              "  <thead>\n",
              "    <tr style=\"text-align: right;\">\n",
              "      <th></th>\n",
              "      <th>uid</th>\n",
              "      <th>articles</th>\n",
              "    </tr>\n",
              "  </thead>\n",
              "  <tbody>\n",
              "    <tr>\n",
              "      <th>0</th>\n",
              "      <td>u105138</td>\n",
              "      <td>[293672, 293328, 293001, 293622, 293126, 1852]</td>\n",
              "    </tr>\n",
              "    <tr>\n",
              "      <th>1</th>\n",
              "      <td>u108690</td>\n",
              "      <td>[3405, 1739, 2972, 1158, 1599, 322665]</td>\n",
              "    </tr>\n",
              "    <tr>\n",
              "      <th>2</th>\n",
              "      <td>u108339</td>\n",
              "      <td>[1845, 2009, 2356, 1424, 2939, 323389]</td>\n",
              "    </tr>\n",
              "  </tbody>\n",
              "</table>\n",
              "</div>"
            ],
            "text/plain": [
              "       uid                                        articles\n",
              "0  u105138  [293672, 293328, 293001, 293622, 293126, 1852]\n",
              "1  u108690          [3405, 1739, 2972, 1158, 1599, 322665]\n",
              "2  u108339          [1845, 2009, 2356, 1424, 2939, 323389]"
            ]
          },
          "metadata": {
            "tags": []
          },
          "execution_count": 7
        }
      ]
    },
    {
      "cell_type": "markdown",
      "metadata": {
        "id": "9kFAT-qMMIGm"
      },
      "source": [
        "Итак, нам нужно получить векторные представления пользователей на основе прочитанным ими новостей и самих новостей"
      ]
    },
    {
      "cell_type": "markdown",
      "metadata": {
        "id": "ra5jYUNoMIGm"
      },
      "source": [
        "### 1. Получаем векторные представления новостей (повторяем, что было на уроке)"
      ]
    },
    {
      "cell_type": "code",
      "metadata": {
        "id": "LBjgEo9DMIGm"
      },
      "source": [
        "#from gensim.test.utils import common_texts\n",
        "from gensim.corpora.dictionary import Dictionary"
      ],
      "execution_count": 10,
      "outputs": []
    },
    {
      "cell_type": "code",
      "metadata": {
        "id": "pXp8Q2WNMIGn"
      },
      "source": [
        "#предобработка текстов\n",
        "import re\n",
        "import numpy as np\n",
        "from nltk.corpus import stopwords\n",
        "#from nltk.tokenize import word_tokenize\n",
        "\n",
        "from razdel import tokenize # https://github.com/natasha/razdel\n",
        "#!pip install razdel\n",
        "\n",
        "import pymorphy2  # pip install pymorphy2"
      ],
      "execution_count": 14,
      "outputs": []
    },
    {
      "cell_type": "code",
      "metadata": {
        "colab": {
          "base_uri": "https://localhost:8080/"
        },
        "id": "ea5xiOOMOgla",
        "outputId": "2d93da66-7972-4415-dd77-7359cac85e08"
      },
      "source": [
        "import nltk\r\n",
        "nltk.download('stopwords')"
      ],
      "execution_count": 15,
      "outputs": [
        {
          "output_type": "stream",
          "text": [
            "[nltk_data] Downloading package stopwords to /root/nltk_data...\n",
            "[nltk_data]   Unzipping corpora/stopwords.zip.\n"
          ],
          "name": "stdout"
        },
        {
          "output_type": "execute_result",
          "data": {
            "text/plain": [
              "True"
            ]
          },
          "metadata": {
            "tags": []
          },
          "execution_count": 15
        }
      ]
    },
    {
      "cell_type": "code",
      "metadata": {
        "id": "n4UkLRydMIGn"
      },
      "source": [
        "stopword_ru = stopwords.words('russian')\n",
        "len(stopword_ru)\n",
        "\n",
        "morph = pymorphy2.MorphAnalyzer()"
      ],
      "execution_count": 16,
      "outputs": []
    },
    {
      "cell_type": "code",
      "metadata": {
        "id": "gRCY_H-LMIGo",
        "colab": {
          "base_uri": "https://localhost:8080/"
        },
        "outputId": "123d873f-3bc5-4320-ae56-00b91bc56059"
      },
      "source": [
        "with open('/gdrive/MyDrive/Colab Notebooks/GB/gb4sm-ml-in-business/stopwords.txt') as f:\n",
        "    additional_stopwords = [w.strip() for w in f.readlines() if w]\n",
        "stopword_ru += additional_stopwords\n",
        "len(stopword_ru)"
      ],
      "execution_count": 17,
      "outputs": [
        {
          "output_type": "execute_result",
          "data": {
            "text/plain": [
              "776"
            ]
          },
          "metadata": {
            "tags": []
          },
          "execution_count": 17
        }
      ]
    },
    {
      "cell_type": "code",
      "metadata": {
        "id": "DiAt1i81MIGp"
      },
      "source": [
        "def clean_text(text):\n",
        "    '''\n",
        "    очистка текста\n",
        "    \n",
        "    на выходе очищеный текст\n",
        "    \n",
        "    '''\n",
        "    if not isinstance(text, str):\n",
        "        text = str(text)\n",
        "    \n",
        "    text = text.lower()\n",
        "    text = text.strip('\\n').strip('\\r').strip('\\t')\n",
        "    text = re.sub(\"-\\s\\r\\n\\|-\\s\\r\\n|\\r\\n\", '', str(text))\n",
        "\n",
        "    text = re.sub(\"[0-9]|[-—.,:;_%©«»?*!@#№$^•·&()]|[+=]|[[]|[]]|[/]|\", '', text)\n",
        "    text = re.sub(r\"\\r\\n\\t|\\n|\\\\s|\\r\\t|\\\\n\", ' ', text)\n",
        "    text = re.sub(r'[\\xad]|[\\s+]', ' ', text.strip())\n",
        "    \n",
        "    #tokens = list(tokenize(text))\n",
        "    #words = [_.text for _ in tokens]\n",
        "    #words = [w for w in words if w not in stopword_ru]\n",
        "    \n",
        "    #return \" \".join(words)\n",
        "    return text\n",
        "\n",
        "cache = {}\n",
        "\n",
        "def lemmatization(text):\n",
        "    '''\n",
        "    лемматизация\n",
        "        [0] если зашел тип не `str` делаем его `str`\n",
        "        [1] токенизация предложения через razdel\n",
        "        [2] проверка есть ли в начале слова '-'\n",
        "        [3] проверка токена с одного символа\n",
        "        [4] проверка есть ли данное слово в кэше\n",
        "        [5] лемматизация слова\n",
        "        [6] проверка на стоп-слова\n",
        "\n",
        "    на выходе лист отлемматизированых токенов\n",
        "    '''\n",
        "\n",
        "    # [0]\n",
        "    if not isinstance(text, str):\n",
        "        text = str(text)\n",
        "    \n",
        "    # [1]\n",
        "    tokens = list(tokenize(text))\n",
        "    words = [_.text for _ in tokens]\n",
        "\n",
        "    words_lem = []\n",
        "    for w in words:\n",
        "        if w[0] == '-': # [2]\n",
        "            w = w[1:]\n",
        "        if len(w)>1: # [3]\n",
        "            if w in cache: # [4]\n",
        "                words_lem.append(cache[w])\n",
        "            else: # [5]\n",
        "                temp_cach = cache[w] = morph.parse(w)[0].normal_form\n",
        "                words_lem.append(temp_cach)\n",
        "    \n",
        "    words_lem_without_stopwords=[i for i in words_lem if not i in stopword_ru] # [6]\n",
        "    \n",
        "    return words_lem_without_stopwords"
      ],
      "execution_count": 20,
      "outputs": []
    },
    {
      "cell_type": "code",
      "metadata": {
        "id": "KfixKuSMMIGq",
        "colab": {
          "base_uri": "https://localhost:8080/"
        },
        "outputId": "2a0f158c-b8b6-40b1-fda5-d9d3a0866425"
      },
      "source": [
        "%%time\n",
        "#Запускаем очистку текста. Будет долго...\n",
        "news['title'] = news['title'].apply(lambda x: clean_text(x), 1)"
      ],
      "execution_count": 21,
      "outputs": [
        {
          "output_type": "stream",
          "text": [
            "CPU times: user 19.9 s, sys: 561 ms, total: 20.4 s\n",
            "Wall time: 20.5 s\n"
          ],
          "name": "stdout"
        }
      ]
    },
    {
      "cell_type": "code",
      "metadata": {
        "colab": {
          "base_uri": "https://localhost:8080/",
          "height": 345
        },
        "id": "xhDcR4Gbptfu",
        "outputId": "de312625-b6bf-4e19-e8ed-999d492f9a5b"
      },
      "source": [
        "news.head(10)"
      ],
      "execution_count": 22,
      "outputs": [
        {
          "output_type": "execute_result",
          "data": {
            "text/html": [
              "<div>\n",
              "<style scoped>\n",
              "    .dataframe tbody tr th:only-of-type {\n",
              "        vertical-align: middle;\n",
              "    }\n",
              "\n",
              "    .dataframe tbody tr th {\n",
              "        vertical-align: top;\n",
              "    }\n",
              "\n",
              "    .dataframe thead th {\n",
              "        text-align: right;\n",
              "    }\n",
              "</style>\n",
              "<table border=\"1\" class=\"dataframe\">\n",
              "  <thead>\n",
              "    <tr style=\"text-align: right;\">\n",
              "      <th></th>\n",
              "      <th>doc_id</th>\n",
              "      <th>title</th>\n",
              "    </tr>\n",
              "  </thead>\n",
              "  <tbody>\n",
              "    <tr>\n",
              "      <th>0</th>\n",
              "      <td>6</td>\n",
              "      <td>заместитель председателяnправительства рфnсерг...</td>\n",
              "    </tr>\n",
              "    <tr>\n",
              "      <th>1</th>\n",
              "      <td>4896</td>\n",
              "      <td>матч  финала кубка россии по футболу был приос...</td>\n",
              "    </tr>\n",
              "    <tr>\n",
              "      <th>2</th>\n",
              "      <td>4897</td>\n",
              "      <td>форвард авангарда томаш заборский прокомментир...</td>\n",
              "    </tr>\n",
              "    <tr>\n",
              "      <th>3</th>\n",
              "      <td>4898</td>\n",
              "      <td>главный тренер кубани юрий красножан прокоммен...</td>\n",
              "    </tr>\n",
              "    <tr>\n",
              "      <th>4</th>\n",
              "      <td>4899</td>\n",
              "      <td>решением попечительского совета владивостокско...</td>\n",
              "    </tr>\n",
              "    <tr>\n",
              "      <th>5</th>\n",
              "      <td>4900</td>\n",
              "      <td>ио главного тренера вячеслав буцаев прокоммент...</td>\n",
              "    </tr>\n",
              "    <tr>\n",
              "      <th>6</th>\n",
              "      <td>4901</td>\n",
              "      <td>запорожский металлург дома потерпел разгромное...</td>\n",
              "    </tr>\n",
              "    <tr>\n",
              "      <th>7</th>\n",
              "      <td>4902</td>\n",
              "      <td>сборная сша одержала победу над австрией со сч...</td>\n",
              "    </tr>\n",
              "    <tr>\n",
              "      <th>8</th>\n",
              "      <td>4903</td>\n",
              "      <td>бывший защитник сборной россии дарюс каспарайт...</td>\n",
              "    </tr>\n",
              "    <tr>\n",
              "      <th>9</th>\n",
              "      <td>4904</td>\n",
              "      <td>полузащитник цска зоран тошич после победы над...</td>\n",
              "    </tr>\n",
              "  </tbody>\n",
              "</table>\n",
              "</div>"
            ],
            "text/plain": [
              "   doc_id                                              title\n",
              "0       6  заместитель председателяnправительства рфnсерг...\n",
              "1    4896  матч  финала кубка россии по футболу был приос...\n",
              "2    4897  форвард авангарда томаш заборский прокомментир...\n",
              "3    4898  главный тренер кубани юрий красножан прокоммен...\n",
              "4    4899  решением попечительского совета владивостокско...\n",
              "5    4900  ио главного тренера вячеслав буцаев прокоммент...\n",
              "6    4901  запорожский металлург дома потерпел разгромное...\n",
              "7    4902  сборная сша одержала победу над австрией со сч...\n",
              "8    4903  бывший защитник сборной россии дарюс каспарайт...\n",
              "9    4904  полузащитник цска зоран тошич после победы над..."
            ]
          },
          "metadata": {
            "tags": []
          },
          "execution_count": 22
        }
      ]
    },
    {
      "cell_type": "code",
      "metadata": {
        "id": "A0m01zNlMIGs",
        "colab": {
          "base_uri": "https://localhost:8080/"
        },
        "outputId": "3e2b55dc-7e69-4083-e8ae-9768b6b23f2d"
      },
      "source": [
        "%%time\n",
        "#Запускаем лемматизацию текста. Будет очень долго...\n",
        "news['title'] = news['title'].apply(lambda x: lemmatization(x), 1)"
      ],
      "execution_count": 23,
      "outputs": [
        {
          "output_type": "stream",
          "text": [
            "CPU times: user 3min 53s, sys: 266 ms, total: 3min 54s\n",
            "Wall time: 3min 54s\n"
          ],
          "name": "stdout"
        }
      ]
    },
    {
      "cell_type": "code",
      "metadata": {
        "colab": {
          "base_uri": "https://localhost:8080/",
          "height": 345
        },
        "id": "DOYaKU2Hp4n_",
        "outputId": "f09c39da-735a-4e28-e381-65c104f57ad7"
      },
      "source": [
        "news.head(10)"
      ],
      "execution_count": 24,
      "outputs": [
        {
          "output_type": "execute_result",
          "data": {
            "text/html": [
              "<div>\n",
              "<style scoped>\n",
              "    .dataframe tbody tr th:only-of-type {\n",
              "        vertical-align: middle;\n",
              "    }\n",
              "\n",
              "    .dataframe tbody tr th {\n",
              "        vertical-align: top;\n",
              "    }\n",
              "\n",
              "    .dataframe thead th {\n",
              "        text-align: right;\n",
              "    }\n",
              "</style>\n",
              "<table border=\"1\" class=\"dataframe\">\n",
              "  <thead>\n",
              "    <tr style=\"text-align: right;\">\n",
              "      <th></th>\n",
              "      <th>doc_id</th>\n",
              "      <th>title</th>\n",
              "    </tr>\n",
              "  </thead>\n",
              "  <tbody>\n",
              "    <tr>\n",
              "      <th>0</th>\n",
              "      <td>6</td>\n",
              "      <td>[заместитель, председатель, правительство, рф,...</td>\n",
              "    </tr>\n",
              "    <tr>\n",
              "      <th>1</th>\n",
              "      <td>4896</td>\n",
              "      <td>[матч, финал, кубок, россия, футбол, приостано...</td>\n",
              "    </tr>\n",
              "    <tr>\n",
              "      <th>2</th>\n",
              "      <td>4897</td>\n",
              "      <td>[форвард, авангард, томаш, заборский, прокомме...</td>\n",
              "    </tr>\n",
              "    <tr>\n",
              "      <th>3</th>\n",
              "      <td>4898</td>\n",
              "      <td>[главный, тренер, кубань, юрий, красножанин, п...</td>\n",
              "    </tr>\n",
              "    <tr>\n",
              "      <th>4</th>\n",
              "      <td>4899</td>\n",
              "      <td>[решение, попечительский, совет, владивостокск...</td>\n",
              "    </tr>\n",
              "    <tr>\n",
              "      <th>5</th>\n",
              "      <td>4900</td>\n",
              "      <td>[ио, главное, тренер, вячеслав, буцай, прокомм...</td>\n",
              "    </tr>\n",
              "    <tr>\n",
              "      <th>6</th>\n",
              "      <td>4901</td>\n",
              "      <td>[запорожский, металлург, дом, потерпеть, разгр...</td>\n",
              "    </tr>\n",
              "    <tr>\n",
              "      <th>7</th>\n",
              "      <td>4902</td>\n",
              "      <td>[сборная, сша, одержать, победа, австрия, счёт...</td>\n",
              "    </tr>\n",
              "    <tr>\n",
              "      <th>8</th>\n",
              "      <td>4903</td>\n",
              "      <td>[бывший, защитник, сборная, россия, дарюс, кас...</td>\n",
              "    </tr>\n",
              "    <tr>\n",
              "      <th>9</th>\n",
              "      <td>4904</td>\n",
              "      <td>[полузащитник, цска, зоран, тошич, победа, тер...</td>\n",
              "    </tr>\n",
              "  </tbody>\n",
              "</table>\n",
              "</div>"
            ],
            "text/plain": [
              "   doc_id                                              title\n",
              "0       6  [заместитель, председатель, правительство, рф,...\n",
              "1    4896  [матч, финал, кубок, россия, футбол, приостано...\n",
              "2    4897  [форвард, авангард, томаш, заборский, прокомме...\n",
              "3    4898  [главный, тренер, кубань, юрий, красножанин, п...\n",
              "4    4899  [решение, попечительский, совет, владивостокск...\n",
              "5    4900  [ио, главное, тренер, вячеслав, буцай, прокомм...\n",
              "6    4901  [запорожский, металлург, дом, потерпеть, разгр...\n",
              "7    4902  [сборная, сша, одержать, победа, австрия, счёт...\n",
              "8    4903  [бывший, защитник, сборная, россия, дарюс, кас...\n",
              "9    4904  [полузащитник, цска, зоран, тошич, победа, тер..."
            ]
          },
          "metadata": {
            "tags": []
          },
          "execution_count": 24
        }
      ]
    },
    {
      "cell_type": "markdown",
      "metadata": {
        "id": "OMqHynF9MIGu"
      },
      "source": [
        "А теперь в 3 строчки обучим нашу модель"
      ]
    },
    {
      "cell_type": "code",
      "metadata": {
        "id": "Yd6EZ8RbMIGu"
      },
      "source": [
        "#сформируем список наших текстов, разбив еще и на пробелы\n",
        "texts = [t for t in news['title'].values]\n",
        "\n",
        "# Create a corpus from a list of texts\n",
        "common_dictionary = Dictionary(texts)\n",
        "common_corpus = [common_dictionary.doc2bow(text) for text in texts]"
      ],
      "execution_count": 25,
      "outputs": []
    },
    {
      "cell_type": "markdown",
      "metadata": {
        "id": "hQfhjyspMIGv"
      },
      "source": [
        "Что такое common_dictionary и как он выглядит"
      ]
    },
    {
      "cell_type": "code",
      "metadata": {
        "id": "MBAN3PvWMIGv",
        "colab": {
          "base_uri": "https://localhost:8080/",
          "height": 35
        },
        "outputId": "4db8c7c2-9709-4758-ecf3-12fd7cafa779"
      },
      "source": [
        "common_dictionary[15]"
      ],
      "execution_count": 26,
      "outputs": [
        {
          "output_type": "execute_result",
          "data": {
            "application/vnd.google.colaboratory.intrinsic+json": {
              "type": "string"
            },
            "text/plain": [
              "'генералполковник'"
            ]
          },
          "metadata": {
            "tags": []
          },
          "execution_count": 26
        }
      ]
    },
    {
      "cell_type": "code",
      "metadata": {
        "colab": {
          "base_uri": "https://localhost:8080/"
        },
        "id": "JSf5rfLjROW7",
        "outputId": "99c7a235-6541-4632-e786-74a871bd6c43"
      },
      "source": [
        "common_corpus[0][0]"
      ],
      "execution_count": 27,
      "outputs": [
        {
          "output_type": "execute_result",
          "data": {
            "text/plain": [
              "(0, 5)"
            ]
          },
          "metadata": {
            "tags": []
          },
          "execution_count": 27
        }
      ]
    },
    {
      "cell_type": "code",
      "metadata": {
        "colab": {
          "base_uri": "https://localhost:8080/"
        },
        "id": "mcQAiY4kRlAW",
        "outputId": "8177ac36-c0e1-47be-8407-3d9d83dc4b17"
      },
      "source": [
        "len(texts[0])"
      ],
      "execution_count": 28,
      "outputs": [
        {
          "output_type": "execute_result",
          "data": {
            "text/plain": [
              "118"
            ]
          },
          "metadata": {
            "tags": []
          },
          "execution_count": 28
        }
      ]
    },
    {
      "cell_type": "markdown",
      "metadata": {
        "id": "jrkMUNueMIGv"
      },
      "source": [
        "Все просто - это словарь наших слов"
      ]
    },
    {
      "cell_type": "markdown",
      "metadata": {
        "id": "LksYgmAqMIGw"
      },
      "source": [
        "Запускаем обучение"
      ]
    },
    {
      "cell_type": "code",
      "metadata": {
        "id": "xtKgOLXzMIGw",
        "colab": {
          "base_uri": "https://localhost:8080/"
        },
        "outputId": "6bf8e76f-2a88-4edd-ef19-e48b40c34dd0"
      },
      "source": [
        "%%time\n",
        "from gensim.models import LdaModel\n",
        "# Train the model on the corpus.\n",
        "lda = LdaModel(common_corpus, num_topics=25, id2word=common_dictionary)#, passes=10)"
      ],
      "execution_count": 29,
      "outputs": [
        {
          "output_type": "stream",
          "text": [
            "CPU times: user 54 s, sys: 25.9 s, total: 1min 19s\n",
            "Wall time: 51.2 s\n"
          ],
          "name": "stdout"
        }
      ]
    },
    {
      "cell_type": "code",
      "metadata": {
        "id": "IyVZ-spdMIGx"
      },
      "source": [
        "from gensim.test.utils import datapath\n",
        "# Save model to disk.\n",
        "temp_file = datapath(\"model.lda\")\n",
        "lda.save(temp_file)\n",
        "\n",
        "# Load a potentially pretrained model from disk.\n",
        "lda = LdaModel.load(temp_file)"
      ],
      "execution_count": 30,
      "outputs": []
    },
    {
      "cell_type": "markdown",
      "metadata": {
        "id": "ZshpqNKwMIGx"
      },
      "source": [
        "Обучили модель. Теперь 2 вопроса:\n",
        "\n",
        "1. как выглядят наши темы\n",
        "2. как получить для документа вектор значений (вероятности принадлежности каждой теме)"
      ]
    },
    {
      "cell_type": "code",
      "metadata": {
        "id": "-stkuTDxMIGy",
        "colab": {
          "base_uri": "https://localhost:8080/"
        },
        "outputId": "710cbea8-6690-4adf-80d6-a2dd72268b61"
      },
      "source": [
        "# Create a new corpus, made of previously unseen documents.\n",
        "other_texts = [t for t in news['title'].iloc[:3]]\n",
        "other_corpus = [common_dictionary.doc2bow(text) for text in other_texts]\n",
        "\n",
        "unseen_doc = other_corpus[2]\n",
        "print(other_texts[2])\n",
        "lda[unseen_doc] "
      ],
      "execution_count": 31,
      "outputs": [
        {
          "output_type": "stream",
          "text": [
            "['форвард', 'авангард', 'томаш', 'заборский', 'прокомментировать', 'игра', 'команда', 'матч', 'чемпионат', 'кхл', 'против', 'атланта', 'nnnn', 'плохой', 'матч', 'нижний', 'новгород', 'против', 'торпедо', 'настраиваться', 'первый', 'минута', 'включиться', 'заборский', 'получиться', 'забросить', 'быстрый', 'гол', 'задать', 'хороший', 'темп', 'поединок', 'играть', 'хороший', 'сторона', 'пять', 'очко', 'выезд', 'девять', 'хороший']\n"
          ],
          "name": "stdout"
        },
        {
          "output_type": "execute_result",
          "data": {
            "text/plain": [
              "[(2, 0.035618287),\n",
              " (3, 0.2828906),\n",
              " (7, 0.040201318),\n",
              " (15, 0.28535202),\n",
              " (19, 0.048918486),\n",
              " (22, 0.06912254),\n",
              " (24, 0.2203358)]"
            ]
          },
          "metadata": {
            "tags": []
          },
          "execution_count": 31
        }
      ]
    },
    {
      "cell_type": "code",
      "metadata": {
        "id": "Bbxd48b_MIGz",
        "colab": {
          "base_uri": "https://localhost:8080/"
        },
        "outputId": "a9a03c62-2d9c-4008-a265-bdf0728cb7b7"
      },
      "source": [
        "x=lda.show_topics(num_topics=25, num_words=7,formatted=False)\n",
        "topics_words = [(tp[0], [wd[0] for wd in tp[1]]) for tp in x]\n",
        "\n",
        "#Below Code Prints Only Words \n",
        "for topic,words in topics_words:\n",
        "    print(\"topic_{}: \".format(topic)+\" \".join(words))"
      ],
      "execution_count": 32,
      "outputs": [
        {
          "output_type": "stream",
          "text": [
            "topic_0: учёный исследователь журнал исследование страдать женщина газета\n",
            "topic_1: самолёт американский рак двигатель nasa космический древний\n",
            "topic_2: гражданин мужчина миссия космос ребёнок убийство сотрудник\n",
            "topic_3: век узнать солнце считаться увидеть nn сайт\n",
            "topic_4: россия банк сша нефть глава санкция решение\n",
            "topic_5: украина поверхность киев девочка украинский сон золото\n",
            "topic_6: погибнуть nn место пассажир авария астероид ветер\n",
            "topic_7: доллар расчёт фестиваль мкс медведев лунный астронавт\n",
            "topic_8: ракета проверка планета орбита польша первый польский\n",
            "topic_9: церковь общество мышь городской московский лётчик статья\n",
            "topic_10: экономика млн мозг выяснить объём врач дом\n",
            "topic_11: nn площадь обнаружить высота аэропорт участок выяснить\n",
            "topic_12: животное налог дыра норма анализ пища освобождение\n",
            "topic_13: статья операция район пострадать клетка уголовный орган\n",
            "topic_14: русский законодательство миллиард разместить писать сенатор юрист\n",
            "topic_15: вода инвестиция первый корабль температура задача всё\n",
            "topic_16: nn технология россия луна министерство путин владимир\n",
            "topic_17: россия риск рубль эксперт российский население закон\n",
            "topic_18: военный российский сша самолёт россия сила корабль\n",
            "topic_19: фонд взрыв источник расследование механизм следствие данные\n",
            "topic_20: северный запуск препарат белоруссия сша армия южный\n",
            "topic_21: земля газ управление строительство доля около турция\n",
            "topic_22: ребёнок смерть тело жизнь всё обнаружить найти\n",
            "topic_23: исследование млрд новый научный проект учёный цена\n",
            "topic_24: рост большой уровень снижение россия первый nn\n"
          ],
          "name": "stdout"
        }
      ]
    },
    {
      "cell_type": "markdown",
      "metadata": {
        "id": "gBlxgTZoMIG0"
      },
      "source": [
        "Очень неплохо - большинство тем вполне можно описать о чем они\r\n",
        "\r\n",
        "\r\n",
        "построим темы "
      ]
    },
    {
      "cell_type": "code",
      "metadata": {
        "colab": {
          "base_uri": "https://localhost:8080/"
        },
        "id": "1vbGV31OtHHx",
        "outputId": "ccbe738a-da31-4bc3-e196-a85824107358"
      },
      "source": [
        "news['title'].iloc[5]"
      ],
      "execution_count": 33,
      "outputs": [
        {
          "output_type": "execute_result",
          "data": {
            "text/plain": [
              "['ио',\n",
              " 'главное',\n",
              " 'тренер',\n",
              " 'вячеслав',\n",
              " 'буцай',\n",
              " 'прокомментировать',\n",
              " 'победа',\n",
              " 'югра',\n",
              " 'матч',\n",
              " 'регулярный',\n",
              " 'чемпионат',\n",
              " 'кхл',\n",
              " 'nn',\n",
              " 'прежде',\n",
              " 'хотеть',\n",
              " 'поблагодарить',\n",
              " 'ребята',\n",
              " 'команда',\n",
              " 'передавать',\n",
              " 'официальный',\n",
              " 'сайт',\n",
              " 'югра',\n",
              " 'игра',\n",
              " 'начинаться',\n",
              " 'очень',\n",
              " 'удачно',\n",
              " 'пропустить',\n",
              " 'гол',\n",
              " 'первый',\n",
              " 'смена',\n",
              " 'долго',\n",
              " 'входить',\n",
              " 'игра',\n",
              " 'связать',\n",
              " 'дневный',\n",
              " 'матч',\n",
              " 'непривычный',\n",
              " 'плюс',\n",
              " 'третий',\n",
              " 'матч',\n",
              " 'сибирь',\n",
              " 'гдеть',\n",
              " 'ребята',\n",
              " 'чувствовать',\n",
              " 'скажем',\n",
              " 'сонный',\n",
              " 'второй',\n",
              " 'третий',\n",
              " 'период',\n",
              " 'показать',\n",
              " 'разбежаться',\n",
              " 'играть',\n",
              " 'правильно',\n",
              " 'появиться',\n",
              " 'момент',\n",
              " 'дотерпеть',\n",
              " 'заслуженно',\n",
              " 'победить']"
            ]
          },
          "metadata": {
            "tags": []
          },
          "execution_count": 33
        }
      ]
    },
    {
      "cell_type": "code",
      "metadata": {
        "colab": {
          "base_uri": "https://localhost:8080/"
        },
        "id": "NzIVpjbQsK_8",
        "outputId": "9b092661-e880-4f49-8eaf-7b69a312df31"
      },
      "source": [
        "lda[common_dictionary.doc2bow(news['title'].iloc[5])]"
      ],
      "execution_count": 34,
      "outputs": [
        {
          "output_type": "execute_result",
          "data": {
            "text/plain": [
              "[(3, 0.34382766), (7, 0.03088229), (13, 0.040857263), (24, 0.57019544)]"
            ]
          },
          "metadata": {
            "tags": []
          },
          "execution_count": 34
        }
      ]
    },
    {
      "cell_type": "markdown",
      "metadata": {
        "id": "ZqB953kTMIG0"
      },
      "source": [
        "Давайте напишем функцию, которая будет нам возвращать векторное представление новости"
      ]
    },
    {
      "cell_type": "code",
      "metadata": {
        "id": "dKAc5hiVMIG1"
      },
      "source": [
        "#text = news['title'].iloc[0]\n",
        "\n",
        "def get_lda_vector(text):\n",
        "    unseen_doc = common_dictionary.doc2bow(text)\n",
        "    lda_tuple = lda[unseen_doc]\n",
        "    not_null_topics = dict(zip([i[0] for i in lda_tuple], [i[1] for i in lda_tuple]))\n",
        "\n",
        "    output_vector = []\n",
        "    for i in range(25):\n",
        "        if i not in not_null_topics:\n",
        "            output_vector.append(0)\n",
        "        else:\n",
        "            output_vector.append(not_null_topics[i])\n",
        "    return np.array(output_vector)"
      ],
      "execution_count": 35,
      "outputs": []
    },
    {
      "cell_type": "code",
      "metadata": {
        "id": "QKc4AAI5MIG2",
        "colab": {
          "base_uri": "https://localhost:8080/",
          "height": 216
        },
        "outputId": "cb216466-7e24-4417-94f2-619f58364524"
      },
      "source": [
        "topic_matrix = pd.DataFrame([get_lda_vector(text) for text in news['title'].values])\n",
        "topic_matrix.columns = ['topic_{}'.format(i) for i in range(25)]\n",
        "topic_matrix['doc_id'] = news['doc_id'].values\n",
        "topic_matrix = topic_matrix[['doc_id']+['topic_{}'.format(i) for i in range(25)]]\n",
        "topic_matrix.head(5)"
      ],
      "execution_count": 36,
      "outputs": [
        {
          "output_type": "execute_result",
          "data": {
            "text/html": [
              "<div>\n",
              "<style scoped>\n",
              "    .dataframe tbody tr th:only-of-type {\n",
              "        vertical-align: middle;\n",
              "    }\n",
              "\n",
              "    .dataframe tbody tr th {\n",
              "        vertical-align: top;\n",
              "    }\n",
              "\n",
              "    .dataframe thead th {\n",
              "        text-align: right;\n",
              "    }\n",
              "</style>\n",
              "<table border=\"1\" class=\"dataframe\">\n",
              "  <thead>\n",
              "    <tr style=\"text-align: right;\">\n",
              "      <th></th>\n",
              "      <th>doc_id</th>\n",
              "      <th>topic_0</th>\n",
              "      <th>topic_1</th>\n",
              "      <th>topic_2</th>\n",
              "      <th>topic_3</th>\n",
              "      <th>topic_4</th>\n",
              "      <th>topic_5</th>\n",
              "      <th>topic_6</th>\n",
              "      <th>topic_7</th>\n",
              "      <th>topic_8</th>\n",
              "      <th>topic_9</th>\n",
              "      <th>topic_10</th>\n",
              "      <th>topic_11</th>\n",
              "      <th>topic_12</th>\n",
              "      <th>topic_13</th>\n",
              "      <th>topic_14</th>\n",
              "      <th>topic_15</th>\n",
              "      <th>topic_16</th>\n",
              "      <th>topic_17</th>\n",
              "      <th>topic_18</th>\n",
              "      <th>topic_19</th>\n",
              "      <th>topic_20</th>\n",
              "      <th>topic_21</th>\n",
              "      <th>topic_22</th>\n",
              "      <th>topic_23</th>\n",
              "      <th>topic_24</th>\n",
              "    </tr>\n",
              "  </thead>\n",
              "  <tbody>\n",
              "    <tr>\n",
              "      <th>0</th>\n",
              "      <td>6</td>\n",
              "      <td>0.0</td>\n",
              "      <td>0.0</td>\n",
              "      <td>0.0</td>\n",
              "      <td>0.000000</td>\n",
              "      <td>0.453072</td>\n",
              "      <td>0.000000</td>\n",
              "      <td>0.0</td>\n",
              "      <td>0.000000</td>\n",
              "      <td>0.09282</td>\n",
              "      <td>0.0</td>\n",
              "      <td>0.0</td>\n",
              "      <td>0.0</td>\n",
              "      <td>0.0</td>\n",
              "      <td>0.0</td>\n",
              "      <td>0.0</td>\n",
              "      <td>0.000000</td>\n",
              "      <td>0.125549</td>\n",
              "      <td>0.00000</td>\n",
              "      <td>0.0</td>\n",
              "      <td>0.000000</td>\n",
              "      <td>0.0</td>\n",
              "      <td>0.3215</td>\n",
              "      <td>0.0</td>\n",
              "      <td>0.0</td>\n",
              "      <td>0.000000</td>\n",
              "    </tr>\n",
              "    <tr>\n",
              "      <th>1</th>\n",
              "      <td>4896</td>\n",
              "      <td>0.0</td>\n",
              "      <td>0.0</td>\n",
              "      <td>0.0</td>\n",
              "      <td>0.300313</td>\n",
              "      <td>0.000000</td>\n",
              "      <td>0.000000</td>\n",
              "      <td>0.0</td>\n",
              "      <td>0.035037</td>\n",
              "      <td>0.00000</td>\n",
              "      <td>0.0</td>\n",
              "      <td>0.0</td>\n",
              "      <td>0.0</td>\n",
              "      <td>0.0</td>\n",
              "      <td>0.0</td>\n",
              "      <td>0.0</td>\n",
              "      <td>0.000000</td>\n",
              "      <td>0.000000</td>\n",
              "      <td>0.00000</td>\n",
              "      <td>0.0</td>\n",
              "      <td>0.643187</td>\n",
              "      <td>0.0</td>\n",
              "      <td>0.0000</td>\n",
              "      <td>0.0</td>\n",
              "      <td>0.0</td>\n",
              "      <td>0.000000</td>\n",
              "    </tr>\n",
              "    <tr>\n",
              "      <th>2</th>\n",
              "      <td>4897</td>\n",
              "      <td>0.0</td>\n",
              "      <td>0.0</td>\n",
              "      <td>0.0</td>\n",
              "      <td>0.280425</td>\n",
              "      <td>0.000000</td>\n",
              "      <td>0.000000</td>\n",
              "      <td>0.0</td>\n",
              "      <td>0.075287</td>\n",
              "      <td>0.00000</td>\n",
              "      <td>0.0</td>\n",
              "      <td>0.0</td>\n",
              "      <td>0.0</td>\n",
              "      <td>0.0</td>\n",
              "      <td>0.0</td>\n",
              "      <td>0.0</td>\n",
              "      <td>0.278753</td>\n",
              "      <td>0.000000</td>\n",
              "      <td>0.08628</td>\n",
              "      <td>0.0</td>\n",
              "      <td>0.044492</td>\n",
              "      <td>0.0</td>\n",
              "      <td>0.0000</td>\n",
              "      <td>0.0</td>\n",
              "      <td>0.0</td>\n",
              "      <td>0.216227</td>\n",
              "    </tr>\n",
              "    <tr>\n",
              "      <th>3</th>\n",
              "      <td>4898</td>\n",
              "      <td>0.0</td>\n",
              "      <td>0.0</td>\n",
              "      <td>0.0</td>\n",
              "      <td>0.000000</td>\n",
              "      <td>0.000000</td>\n",
              "      <td>0.000000</td>\n",
              "      <td>0.0</td>\n",
              "      <td>0.000000</td>\n",
              "      <td>0.00000</td>\n",
              "      <td>0.0</td>\n",
              "      <td>0.0</td>\n",
              "      <td>0.0</td>\n",
              "      <td>0.0</td>\n",
              "      <td>0.0</td>\n",
              "      <td>0.0</td>\n",
              "      <td>0.148177</td>\n",
              "      <td>0.000000</td>\n",
              "      <td>0.00000</td>\n",
              "      <td>0.0</td>\n",
              "      <td>0.089474</td>\n",
              "      <td>0.0</td>\n",
              "      <td>0.0000</td>\n",
              "      <td>0.0</td>\n",
              "      <td>0.0</td>\n",
              "      <td>0.751872</td>\n",
              "    </tr>\n",
              "    <tr>\n",
              "      <th>4</th>\n",
              "      <td>4899</td>\n",
              "      <td>0.0</td>\n",
              "      <td>0.0</td>\n",
              "      <td>0.0</td>\n",
              "      <td>0.064720</td>\n",
              "      <td>0.000000</td>\n",
              "      <td>0.031586</td>\n",
              "      <td>0.0</td>\n",
              "      <td>0.000000</td>\n",
              "      <td>0.00000</td>\n",
              "      <td>0.0</td>\n",
              "      <td>0.0</td>\n",
              "      <td>0.0</td>\n",
              "      <td>0.0</td>\n",
              "      <td>0.0</td>\n",
              "      <td>0.0</td>\n",
              "      <td>0.000000</td>\n",
              "      <td>0.529998</td>\n",
              "      <td>0.00000</td>\n",
              "      <td>0.0</td>\n",
              "      <td>0.350994</td>\n",
              "      <td>0.0</td>\n",
              "      <td>0.0000</td>\n",
              "      <td>0.0</td>\n",
              "      <td>0.0</td>\n",
              "      <td>0.000000</td>\n",
              "    </tr>\n",
              "  </tbody>\n",
              "</table>\n",
              "</div>"
            ],
            "text/plain": [
              "   doc_id  topic_0  topic_1  topic_2  ...  topic_21  topic_22  topic_23  topic_24\n",
              "0       6      0.0      0.0      0.0  ...    0.3215       0.0       0.0  0.000000\n",
              "1    4896      0.0      0.0      0.0  ...    0.0000       0.0       0.0  0.000000\n",
              "2    4897      0.0      0.0      0.0  ...    0.0000       0.0       0.0  0.216227\n",
              "3    4898      0.0      0.0      0.0  ...    0.0000       0.0       0.0  0.751872\n",
              "4    4899      0.0      0.0      0.0  ...    0.0000       0.0       0.0  0.000000\n",
              "\n",
              "[5 rows x 26 columns]"
            ]
          },
          "metadata": {
            "tags": []
          },
          "execution_count": 36
        }
      ]
    },
    {
      "cell_type": "code",
      "metadata": {
        "colab": {
          "base_uri": "https://localhost:8080/"
        },
        "id": "LcGc5USJu3Xr",
        "outputId": "bf1d8bc4-8597-4b2f-ea5c-251783d6c5ac"
      },
      "source": [
        "topic_matrix.shape"
      ],
      "execution_count": 37,
      "outputs": [
        {
          "output_type": "execute_result",
          "data": {
            "text/plain": [
              "(27000, 26)"
            ]
          },
          "metadata": {
            "tags": []
          },
          "execution_count": 37
        }
      ]
    },
    {
      "cell_type": "markdown",
      "metadata": {
        "id": "MbQgZQ3MMIG2"
      },
      "source": [
        "Прекрасно, мы получили вектора наших новостей! И даже умеем интерпретировать получившиеся темы.\n",
        "\n",
        "Можно двигаться далее"
      ]
    },
    {
      "cell_type": "markdown",
      "metadata": {
        "id": "z0JACLjHMIG3"
      },
      "source": [
        "### Следующий шаг - векторные представления пользователей (здесь уже начинается домашка)"
      ]
    },
    {
      "cell_type": "code",
      "metadata": {
        "scrolled": true,
        "id": "7IcoyDauMIG3",
        "colab": {
          "base_uri": "https://localhost:8080/",
          "height": 137
        },
        "outputId": "3ba0e54f-ccfe-4546-a0da-19a19b6c821b"
      },
      "source": [
        "users.head(3)"
      ],
      "execution_count": 38,
      "outputs": [
        {
          "output_type": "execute_result",
          "data": {
            "text/html": [
              "<div>\n",
              "<style scoped>\n",
              "    .dataframe tbody tr th:only-of-type {\n",
              "        vertical-align: middle;\n",
              "    }\n",
              "\n",
              "    .dataframe tbody tr th {\n",
              "        vertical-align: top;\n",
              "    }\n",
              "\n",
              "    .dataframe thead th {\n",
              "        text-align: right;\n",
              "    }\n",
              "</style>\n",
              "<table border=\"1\" class=\"dataframe\">\n",
              "  <thead>\n",
              "    <tr style=\"text-align: right;\">\n",
              "      <th></th>\n",
              "      <th>uid</th>\n",
              "      <th>articles</th>\n",
              "    </tr>\n",
              "  </thead>\n",
              "  <tbody>\n",
              "    <tr>\n",
              "      <th>0</th>\n",
              "      <td>u105138</td>\n",
              "      <td>[293672, 293328, 293001, 293622, 293126, 1852]</td>\n",
              "    </tr>\n",
              "    <tr>\n",
              "      <th>1</th>\n",
              "      <td>u108690</td>\n",
              "      <td>[3405, 1739, 2972, 1158, 1599, 322665]</td>\n",
              "    </tr>\n",
              "    <tr>\n",
              "      <th>2</th>\n",
              "      <td>u108339</td>\n",
              "      <td>[1845, 2009, 2356, 1424, 2939, 323389]</td>\n",
              "    </tr>\n",
              "  </tbody>\n",
              "</table>\n",
              "</div>"
            ],
            "text/plain": [
              "       uid                                        articles\n",
              "0  u105138  [293672, 293328, 293001, 293622, 293126, 1852]\n",
              "1  u108690          [3405, 1739, 2972, 1158, 1599, 322665]\n",
              "2  u108339          [1845, 2009, 2356, 1424, 2939, 323389]"
            ]
          },
          "metadata": {
            "tags": []
          },
          "execution_count": 38
        }
      ]
    },
    {
      "cell_type": "code",
      "metadata": {
        "id": "U2pcSIBDMIG4"
      },
      "source": [
        "doc_dict = dict(zip(topic_matrix['doc_id'].values, topic_matrix[['topic_{}'.format(i) for i in range(25)]].values))"
      ],
      "execution_count": 40,
      "outputs": []
    },
    {
      "cell_type": "code",
      "metadata": {
        "id": "wG7wI5TfMIG4",
        "colab": {
          "base_uri": "https://localhost:8080/"
        },
        "outputId": "792a5bb6-3555-4c34-8be0-bebd0cb2da1b"
      },
      "source": [
        "doc_dict[293622]"
      ],
      "execution_count": 41,
      "outputs": [
        {
          "output_type": "execute_result",
          "data": {
            "text/plain": [
              "array([0.03673285, 0.12548508, 0.        , 0.30841601, 0.1162037 ,\n",
              "       0.        , 0.        , 0.        , 0.        , 0.        ,\n",
              "       0.03353786, 0.        , 0.        , 0.0205492 , 0.        ,\n",
              "       0.        , 0.11866403, 0.11833912, 0.        , 0.        ,\n",
              "       0.04115508, 0.        , 0.        , 0.07446545, 0.        ])"
            ]
          },
          "metadata": {
            "tags": []
          },
          "execution_count": 41
        }
      ]
    },
    {
      "cell_type": "code",
      "metadata": {
        "id": "6ssOp3RkMIG5"
      },
      "source": [
        "user_articles_list = users['articles'].iloc[33]\n",
        "\n",
        "def get_user_embedding(user_articles_list, func):\n",
        "    user_articles_list = eval(user_articles_list)\n",
        "    user_vector = np.array([doc_dict[doc_id] for doc_id in user_articles_list])\n",
        "    user_vector = func(user_vector, 0)\n",
        "    return user_vector"
      ],
      "execution_count": 42,
      "outputs": []
    },
    {
      "cell_type": "code",
      "metadata": {
        "id": "kn0IxR3vMIG5",
        "colab": {
          "base_uri": "https://localhost:8080/"
        },
        "outputId": "82a0b858-1e22-4efd-f4ad-58a65c489d7b"
      },
      "source": [
        "get_user_embedding(user_articles_list, np.mean)"
      ],
      "execution_count": 52,
      "outputs": [
        {
          "output_type": "execute_result",
          "data": {
            "text/plain": [
              "array([0.        , 0.00680746, 0.07380305, 0.        , 0.17488927,\n",
              "       0.00175764, 0.        , 0.0032858 , 0.01526561, 0.00475175,\n",
              "       0.00678313, 0.04571896, 0.        , 0.        , 0.00530302,\n",
              "       0.0210873 , 0.09400701, 0.13073614, 0.15388632, 0.03854015,\n",
              "       0.00559196, 0.00726437, 0.03699381, 0.12633852, 0.0370222 ])"
            ]
          },
          "metadata": {
            "tags": []
          },
          "execution_count": 52
        }
      ]
    },
    {
      "cell_type": "markdown",
      "metadata": {
        "id": "bbJ6STRBMIG6"
      },
      "source": [
        "Интересовался новостями с топиками topic_3, topic_14 (что-то про политику и государство)"
      ]
    },
    {
      "cell_type": "markdown",
      "metadata": {
        "id": "tk9q6qrVMIG7"
      },
      "source": [
        "Теперь получим эмбединги для всех пользователей и проверим их качество на конкретной downstream-задаче"
      ]
    },
    {
      "cell_type": "code",
      "metadata": {
        "id": "y1WyO6iD-3Ld"
      },
      "source": [
        "result = []\r\n",
        "for func in [np.mean, np.median, np.max]:\r\n",
        "  item = {'func': func, \r\n",
        "          'user_embendings': None, \r\n",
        "          'X': None, \r\n",
        "          'X_train': None,\r\n",
        "          'X_test': None,\r\n",
        "          'y_train': None,\r\n",
        "          'y_test': None,\r\n",
        "          'logreg': None,\r\n",
        "          'preds': None,\r\n",
        "          'precision': None,\r\n",
        "          'recall': None,\r\n",
        "          'thresholds': None,\r\n",
        "          'fscore': None,\r\n",
        "          'roc_auc': None\r\n",
        "          }\r\n",
        "  result.append(item)"
      ],
      "execution_count": 103,
      "outputs": []
    },
    {
      "cell_type": "code",
      "metadata": {
        "id": "2gJ71BPbMIG8"
      },
      "source": [
        "for item in result:\n",
        "  user_embeddings = pd.DataFrame([i for i in users['articles'].apply(lambda x: get_user_embedding(x, item['func']), 1)])\n",
        "  user_embeddings.columns = ['topic_{}'.format(i) for i in range(25)]\n",
        "  user_embeddings['uid'] = users['uid'].values\n",
        "  user_embeddings = user_embeddings[['uid']+['topic_{}'.format(i) for i in range(25)]]\n",
        "\n",
        "  item['user_embendings'] = user_embeddings\n",
        "\n",
        "\n",
        "#user_embeddings.head(3)  "
      ],
      "execution_count": 104,
      "outputs": []
    },
    {
      "cell_type": "code",
      "metadata": {
        "colab": {
          "base_uri": "https://localhost:8080/",
          "height": 216
        },
        "id": "EI6FYQHVBlKB",
        "outputId": "44e1cae4-1612-46e9-e9c0-d6edff087c11"
      },
      "source": [
        "#посмотрим user_embeddings для mean\r\n",
        "result[0]['user_embendings'].head()\r\n"
      ],
      "execution_count": 93,
      "outputs": [
        {
          "output_type": "execute_result",
          "data": {
            "text/html": [
              "<div>\n",
              "<style scoped>\n",
              "    .dataframe tbody tr th:only-of-type {\n",
              "        vertical-align: middle;\n",
              "    }\n",
              "\n",
              "    .dataframe tbody tr th {\n",
              "        vertical-align: top;\n",
              "    }\n",
              "\n",
              "    .dataframe thead th {\n",
              "        text-align: right;\n",
              "    }\n",
              "</style>\n",
              "<table border=\"1\" class=\"dataframe\">\n",
              "  <thead>\n",
              "    <tr style=\"text-align: right;\">\n",
              "      <th></th>\n",
              "      <th>uid</th>\n",
              "      <th>topic_0</th>\n",
              "      <th>topic_1</th>\n",
              "      <th>topic_2</th>\n",
              "      <th>topic_3</th>\n",
              "      <th>topic_4</th>\n",
              "      <th>topic_5</th>\n",
              "      <th>topic_6</th>\n",
              "      <th>topic_7</th>\n",
              "      <th>topic_8</th>\n",
              "      <th>topic_9</th>\n",
              "      <th>topic_10</th>\n",
              "      <th>topic_11</th>\n",
              "      <th>topic_12</th>\n",
              "      <th>topic_13</th>\n",
              "      <th>topic_14</th>\n",
              "      <th>topic_15</th>\n",
              "      <th>topic_16</th>\n",
              "      <th>topic_17</th>\n",
              "      <th>topic_18</th>\n",
              "      <th>topic_19</th>\n",
              "      <th>topic_20</th>\n",
              "      <th>topic_21</th>\n",
              "      <th>topic_22</th>\n",
              "      <th>topic_23</th>\n",
              "      <th>topic_24</th>\n",
              "    </tr>\n",
              "  </thead>\n",
              "  <tbody>\n",
              "    <tr>\n",
              "      <th>0</th>\n",
              "      <td>u105138</td>\n",
              "      <td>0.006122</td>\n",
              "      <td>0.029419</td>\n",
              "      <td>0.014561</td>\n",
              "      <td>0.147488</td>\n",
              "      <td>0.073041</td>\n",
              "      <td>0.052246</td>\n",
              "      <td>0.001972</td>\n",
              "      <td>0.000000</td>\n",
              "      <td>0.006811</td>\n",
              "      <td>0.000000</td>\n",
              "      <td>0.005590</td>\n",
              "      <td>0.052766</td>\n",
              "      <td>0.000000</td>\n",
              "      <td>0.033050</td>\n",
              "      <td>0.042678</td>\n",
              "      <td>0.001880</td>\n",
              "      <td>0.116258</td>\n",
              "      <td>0.065428</td>\n",
              "      <td>0.006549</td>\n",
              "      <td>0.080632</td>\n",
              "      <td>0.014009</td>\n",
              "      <td>0.019953</td>\n",
              "      <td>0.027557</td>\n",
              "      <td>0.185921</td>\n",
              "      <td>0.000000</td>\n",
              "    </tr>\n",
              "    <tr>\n",
              "      <th>1</th>\n",
              "      <td>u108690</td>\n",
              "      <td>0.007766</td>\n",
              "      <td>0.013895</td>\n",
              "      <td>0.071250</td>\n",
              "      <td>0.005967</td>\n",
              "      <td>0.219925</td>\n",
              "      <td>0.044756</td>\n",
              "      <td>0.003557</td>\n",
              "      <td>0.005692</td>\n",
              "      <td>0.000000</td>\n",
              "      <td>0.009086</td>\n",
              "      <td>0.028863</td>\n",
              "      <td>0.041488</td>\n",
              "      <td>0.024617</td>\n",
              "      <td>0.037055</td>\n",
              "      <td>0.016859</td>\n",
              "      <td>0.003094</td>\n",
              "      <td>0.063316</td>\n",
              "      <td>0.031703</td>\n",
              "      <td>0.012078</td>\n",
              "      <td>0.062273</td>\n",
              "      <td>0.000000</td>\n",
              "      <td>0.026788</td>\n",
              "      <td>0.064647</td>\n",
              "      <td>0.090410</td>\n",
              "      <td>0.097231</td>\n",
              "    </tr>\n",
              "    <tr>\n",
              "      <th>2</th>\n",
              "      <td>u108339</td>\n",
              "      <td>0.004355</td>\n",
              "      <td>0.000000</td>\n",
              "      <td>0.079069</td>\n",
              "      <td>0.007889</td>\n",
              "      <td>0.162788</td>\n",
              "      <td>0.000000</td>\n",
              "      <td>0.038221</td>\n",
              "      <td>0.002222</td>\n",
              "      <td>0.000000</td>\n",
              "      <td>0.000000</td>\n",
              "      <td>0.020312</td>\n",
              "      <td>0.095157</td>\n",
              "      <td>0.001775</td>\n",
              "      <td>0.080753</td>\n",
              "      <td>0.018454</td>\n",
              "      <td>0.002454</td>\n",
              "      <td>0.070053</td>\n",
              "      <td>0.032363</td>\n",
              "      <td>0.066488</td>\n",
              "      <td>0.053798</td>\n",
              "      <td>0.003533</td>\n",
              "      <td>0.086010</td>\n",
              "      <td>0.030335</td>\n",
              "      <td>0.097504</td>\n",
              "      <td>0.026290</td>\n",
              "    </tr>\n",
              "    <tr>\n",
              "      <th>3</th>\n",
              "      <td>u101138</td>\n",
              "      <td>0.013543</td>\n",
              "      <td>0.006772</td>\n",
              "      <td>0.063838</td>\n",
              "      <td>0.056046</td>\n",
              "      <td>0.000000</td>\n",
              "      <td>0.090550</td>\n",
              "      <td>0.034433</td>\n",
              "      <td>0.015655</td>\n",
              "      <td>0.026651</td>\n",
              "      <td>0.004505</td>\n",
              "      <td>0.005435</td>\n",
              "      <td>0.000000</td>\n",
              "      <td>0.000000</td>\n",
              "      <td>0.006329</td>\n",
              "      <td>0.003505</td>\n",
              "      <td>0.127390</td>\n",
              "      <td>0.000000</td>\n",
              "      <td>0.052624</td>\n",
              "      <td>0.026335</td>\n",
              "      <td>0.075980</td>\n",
              "      <td>0.068630</td>\n",
              "      <td>0.012491</td>\n",
              "      <td>0.025717</td>\n",
              "      <td>0.031021</td>\n",
              "      <td>0.232385</td>\n",
              "    </tr>\n",
              "    <tr>\n",
              "      <th>4</th>\n",
              "      <td>u108248</td>\n",
              "      <td>0.033381</td>\n",
              "      <td>0.000000</td>\n",
              "      <td>0.039123</td>\n",
              "      <td>0.037102</td>\n",
              "      <td>0.116434</td>\n",
              "      <td>0.020237</td>\n",
              "      <td>0.069633</td>\n",
              "      <td>0.004768</td>\n",
              "      <td>0.003398</td>\n",
              "      <td>0.022906</td>\n",
              "      <td>0.068839</td>\n",
              "      <td>0.020506</td>\n",
              "      <td>0.037342</td>\n",
              "      <td>0.025296</td>\n",
              "      <td>0.011900</td>\n",
              "      <td>0.028844</td>\n",
              "      <td>0.084765</td>\n",
              "      <td>0.017328</td>\n",
              "      <td>0.020374</td>\n",
              "      <td>0.068951</td>\n",
              "      <td>0.001821</td>\n",
              "      <td>0.022319</td>\n",
              "      <td>0.082913</td>\n",
              "      <td>0.092210</td>\n",
              "      <td>0.049074</td>\n",
              "    </tr>\n",
              "  </tbody>\n",
              "</table>\n",
              "</div>"
            ],
            "text/plain": [
              "       uid   topic_0   topic_1  ...  topic_22  topic_23  topic_24\n",
              "0  u105138  0.006122  0.029419  ...  0.027557  0.185921  0.000000\n",
              "1  u108690  0.007766  0.013895  ...  0.064647  0.090410  0.097231\n",
              "2  u108339  0.004355  0.000000  ...  0.030335  0.097504  0.026290\n",
              "3  u101138  0.013543  0.006772  ...  0.025717  0.031021  0.232385\n",
              "4  u108248  0.033381  0.000000  ...  0.082913  0.092210  0.049074\n",
              "\n",
              "[5 rows x 26 columns]"
            ]
          },
          "metadata": {
            "tags": []
          },
          "execution_count": 93
        }
      ]
    },
    {
      "cell_type": "code",
      "metadata": {
        "colab": {
          "base_uri": "https://localhost:8080/",
          "height": 216
        },
        "id": "aOF0iufHCO30",
        "outputId": "8bdaa99d-342b-410e-fdf7-06c48bddd70c"
      },
      "source": [
        "#посмотрим user_embeddings для max\r\n",
        "result[2]['user_embendings'].head()"
      ],
      "execution_count": 67,
      "outputs": [
        {
          "output_type": "execute_result",
          "data": {
            "text/html": [
              "<div>\n",
              "<style scoped>\n",
              "    .dataframe tbody tr th:only-of-type {\n",
              "        vertical-align: middle;\n",
              "    }\n",
              "\n",
              "    .dataframe tbody tr th {\n",
              "        vertical-align: top;\n",
              "    }\n",
              "\n",
              "    .dataframe thead th {\n",
              "        text-align: right;\n",
              "    }\n",
              "</style>\n",
              "<table border=\"1\" class=\"dataframe\">\n",
              "  <thead>\n",
              "    <tr style=\"text-align: right;\">\n",
              "      <th></th>\n",
              "      <th>uid</th>\n",
              "      <th>topic_0</th>\n",
              "      <th>topic_1</th>\n",
              "      <th>topic_2</th>\n",
              "      <th>topic_3</th>\n",
              "      <th>topic_4</th>\n",
              "      <th>topic_5</th>\n",
              "      <th>topic_6</th>\n",
              "      <th>topic_7</th>\n",
              "      <th>topic_8</th>\n",
              "      <th>topic_9</th>\n",
              "      <th>topic_10</th>\n",
              "      <th>topic_11</th>\n",
              "      <th>topic_12</th>\n",
              "      <th>topic_13</th>\n",
              "      <th>topic_14</th>\n",
              "      <th>topic_15</th>\n",
              "      <th>topic_16</th>\n",
              "      <th>topic_17</th>\n",
              "      <th>topic_18</th>\n",
              "      <th>topic_19</th>\n",
              "      <th>topic_20</th>\n",
              "      <th>topic_21</th>\n",
              "      <th>topic_22</th>\n",
              "      <th>topic_23</th>\n",
              "      <th>topic_24</th>\n",
              "    </tr>\n",
              "  </thead>\n",
              "  <tbody>\n",
              "    <tr>\n",
              "      <th>0</th>\n",
              "      <td>u105138</td>\n",
              "      <td>0.036733</td>\n",
              "      <td>0.125485</td>\n",
              "      <td>0.087369</td>\n",
              "      <td>0.385163</td>\n",
              "      <td>0.278905</td>\n",
              "      <td>0.313474</td>\n",
              "      <td>0.011831</td>\n",
              "      <td>0.000000</td>\n",
              "      <td>0.040865</td>\n",
              "      <td>0.000000</td>\n",
              "      <td>0.033538</td>\n",
              "      <td>0.183148</td>\n",
              "      <td>0.000000</td>\n",
              "      <td>0.177751</td>\n",
              "      <td>0.175176</td>\n",
              "      <td>0.011280</td>\n",
              "      <td>0.366539</td>\n",
              "      <td>0.191868</td>\n",
              "      <td>0.039291</td>\n",
              "      <td>0.172273</td>\n",
              "      <td>0.042896</td>\n",
              "      <td>0.091514</td>\n",
              "      <td>0.098864</td>\n",
              "      <td>0.485920</td>\n",
              "      <td>0.000000</td>\n",
              "    </tr>\n",
              "    <tr>\n",
              "      <th>1</th>\n",
              "      <td>u108690</td>\n",
              "      <td>0.046595</td>\n",
              "      <td>0.083369</td>\n",
              "      <td>0.269954</td>\n",
              "      <td>0.019870</td>\n",
              "      <td>0.582368</td>\n",
              "      <td>0.140508</td>\n",
              "      <td>0.011121</td>\n",
              "      <td>0.020369</td>\n",
              "      <td>0.000000</td>\n",
              "      <td>0.054518</td>\n",
              "      <td>0.090467</td>\n",
              "      <td>0.118871</td>\n",
              "      <td>0.069962</td>\n",
              "      <td>0.183747</td>\n",
              "      <td>0.065994</td>\n",
              "      <td>0.018562</td>\n",
              "      <td>0.155343</td>\n",
              "      <td>0.089899</td>\n",
              "      <td>0.052465</td>\n",
              "      <td>0.141601</td>\n",
              "      <td>0.000000</td>\n",
              "      <td>0.126791</td>\n",
              "      <td>0.156112</td>\n",
              "      <td>0.281060</td>\n",
              "      <td>0.251861</td>\n",
              "    </tr>\n",
              "    <tr>\n",
              "      <th>2</th>\n",
              "      <td>u108339</td>\n",
              "      <td>0.015997</td>\n",
              "      <td>0.000000</td>\n",
              "      <td>0.257945</td>\n",
              "      <td>0.030760</td>\n",
              "      <td>0.460235</td>\n",
              "      <td>0.000000</td>\n",
              "      <td>0.115602</td>\n",
              "      <td>0.013334</td>\n",
              "      <td>0.000000</td>\n",
              "      <td>0.000000</td>\n",
              "      <td>0.054469</td>\n",
              "      <td>0.253990</td>\n",
              "      <td>0.010652</td>\n",
              "      <td>0.183673</td>\n",
              "      <td>0.110723</td>\n",
              "      <td>0.014727</td>\n",
              "      <td>0.335691</td>\n",
              "      <td>0.076207</td>\n",
              "      <td>0.183539</td>\n",
              "      <td>0.125971</td>\n",
              "      <td>0.021198</td>\n",
              "      <td>0.240201</td>\n",
              "      <td>0.099147</td>\n",
              "      <td>0.217371</td>\n",
              "      <td>0.064077</td>\n",
              "    </tr>\n",
              "    <tr>\n",
              "      <th>3</th>\n",
              "      <td>u101138</td>\n",
              "      <td>0.058353</td>\n",
              "      <td>0.040631</td>\n",
              "      <td>0.233474</td>\n",
              "      <td>0.238508</td>\n",
              "      <td>0.000000</td>\n",
              "      <td>0.291734</td>\n",
              "      <td>0.206601</td>\n",
              "      <td>0.048400</td>\n",
              "      <td>0.159909</td>\n",
              "      <td>0.013755</td>\n",
              "      <td>0.032610</td>\n",
              "      <td>0.000000</td>\n",
              "      <td>0.000000</td>\n",
              "      <td>0.020423</td>\n",
              "      <td>0.021031</td>\n",
              "      <td>0.529036</td>\n",
              "      <td>0.000000</td>\n",
              "      <td>0.165502</td>\n",
              "      <td>0.158011</td>\n",
              "      <td>0.370511</td>\n",
              "      <td>0.242179</td>\n",
              "      <td>0.074949</td>\n",
              "      <td>0.080439</td>\n",
              "      <td>0.109833</td>\n",
              "      <td>0.456834</td>\n",
              "    </tr>\n",
              "    <tr>\n",
              "      <th>4</th>\n",
              "      <td>u108248</td>\n",
              "      <td>0.111069</td>\n",
              "      <td>0.000000</td>\n",
              "      <td>0.094461</td>\n",
              "      <td>0.201825</td>\n",
              "      <td>0.385154</td>\n",
              "      <td>0.121419</td>\n",
              "      <td>0.208255</td>\n",
              "      <td>0.028609</td>\n",
              "      <td>0.020391</td>\n",
              "      <td>0.118599</td>\n",
              "      <td>0.298461</td>\n",
              "      <td>0.080747</td>\n",
              "      <td>0.139226</td>\n",
              "      <td>0.079130</td>\n",
              "      <td>0.052699</td>\n",
              "      <td>0.153136</td>\n",
              "      <td>0.248823</td>\n",
              "      <td>0.072314</td>\n",
              "      <td>0.065594</td>\n",
              "      <td>0.169516</td>\n",
              "      <td>0.010926</td>\n",
              "      <td>0.062408</td>\n",
              "      <td>0.161828</td>\n",
              "      <td>0.310063</td>\n",
              "      <td>0.164888</td>\n",
              "    </tr>\n",
              "  </tbody>\n",
              "</table>\n",
              "</div>"
            ],
            "text/plain": [
              "       uid   topic_0   topic_1  ...  topic_22  topic_23  topic_24\n",
              "0  u105138  0.036733  0.125485  ...  0.098864  0.485920  0.000000\n",
              "1  u108690  0.046595  0.083369  ...  0.156112  0.281060  0.251861\n",
              "2  u108339  0.015997  0.000000  ...  0.099147  0.217371  0.064077\n",
              "3  u101138  0.058353  0.040631  ...  0.080439  0.109833  0.456834\n",
              "4  u108248  0.111069  0.000000  ...  0.161828  0.310063  0.164888\n",
              "\n",
              "[5 rows x 26 columns]"
            ]
          },
          "metadata": {
            "tags": []
          },
          "execution_count": 67
        }
      ]
    },
    {
      "cell_type": "markdown",
      "metadata": {
        "id": "dZNF_ZXSMIG8"
      },
      "source": [
        "Датасет готов - можно попробовать обучить модель. Загрузим нашу разметку"
      ]
    },
    {
      "cell_type": "code",
      "metadata": {
        "id": "L2mVHGMPMIG9",
        "colab": {
          "base_uri": "https://localhost:8080/",
          "height": 137
        },
        "outputId": "e396a359-9a5a-4a4b-9a12-ccd6a5c8a363"
      },
      "source": [
        "target = pd.read_csv('/gdrive/MyDrive/Colab Notebooks/GB/gb4sm-ml-in-business/users_churn.csv')\n",
        "target.head(3)"
      ],
      "execution_count": 68,
      "outputs": [
        {
          "output_type": "execute_result",
          "data": {
            "text/html": [
              "<div>\n",
              "<style scoped>\n",
              "    .dataframe tbody tr th:only-of-type {\n",
              "        vertical-align: middle;\n",
              "    }\n",
              "\n",
              "    .dataframe tbody tr th {\n",
              "        vertical-align: top;\n",
              "    }\n",
              "\n",
              "    .dataframe thead th {\n",
              "        text-align: right;\n",
              "    }\n",
              "</style>\n",
              "<table border=\"1\" class=\"dataframe\">\n",
              "  <thead>\n",
              "    <tr style=\"text-align: right;\">\n",
              "      <th></th>\n",
              "      <th>uid</th>\n",
              "      <th>churn</th>\n",
              "    </tr>\n",
              "  </thead>\n",
              "  <tbody>\n",
              "    <tr>\n",
              "      <th>0</th>\n",
              "      <td>u107120</td>\n",
              "      <td>0</td>\n",
              "    </tr>\n",
              "    <tr>\n",
              "      <th>1</th>\n",
              "      <td>u102277</td>\n",
              "      <td>0</td>\n",
              "    </tr>\n",
              "    <tr>\n",
              "      <th>2</th>\n",
              "      <td>u102444</td>\n",
              "      <td>0</td>\n",
              "    </tr>\n",
              "  </tbody>\n",
              "</table>\n",
              "</div>"
            ],
            "text/plain": [
              "       uid  churn\n",
              "0  u107120      0\n",
              "1  u102277      0\n",
              "2  u102444      0"
            ]
          },
          "metadata": {
            "tags": []
          },
          "execution_count": 68
        }
      ]
    },
    {
      "cell_type": "code",
      "metadata": {
        "id": "qXzy3pA2MIG9",
        "colab": {
          "base_uri": "https://localhost:8080/",
          "height": 216
        },
        "outputId": "c5d39b0c-9406-48a6-b715-0324258c75b5"
      },
      "source": [
        "for item in result:\n",
        "  item['X'] = pd.merge(item['user_embendings'], target, 'left')\n",
        "\n",
        "#посмотрим пример для max\n",
        "result[2]['X'].head()"
      ],
      "execution_count": 105,
      "outputs": [
        {
          "output_type": "execute_result",
          "data": {
            "text/html": [
              "<div>\n",
              "<style scoped>\n",
              "    .dataframe tbody tr th:only-of-type {\n",
              "        vertical-align: middle;\n",
              "    }\n",
              "\n",
              "    .dataframe tbody tr th {\n",
              "        vertical-align: top;\n",
              "    }\n",
              "\n",
              "    .dataframe thead th {\n",
              "        text-align: right;\n",
              "    }\n",
              "</style>\n",
              "<table border=\"1\" class=\"dataframe\">\n",
              "  <thead>\n",
              "    <tr style=\"text-align: right;\">\n",
              "      <th></th>\n",
              "      <th>uid</th>\n",
              "      <th>topic_0</th>\n",
              "      <th>topic_1</th>\n",
              "      <th>topic_2</th>\n",
              "      <th>topic_3</th>\n",
              "      <th>topic_4</th>\n",
              "      <th>topic_5</th>\n",
              "      <th>topic_6</th>\n",
              "      <th>topic_7</th>\n",
              "      <th>topic_8</th>\n",
              "      <th>topic_9</th>\n",
              "      <th>topic_10</th>\n",
              "      <th>topic_11</th>\n",
              "      <th>topic_12</th>\n",
              "      <th>topic_13</th>\n",
              "      <th>topic_14</th>\n",
              "      <th>topic_15</th>\n",
              "      <th>topic_16</th>\n",
              "      <th>topic_17</th>\n",
              "      <th>topic_18</th>\n",
              "      <th>topic_19</th>\n",
              "      <th>topic_20</th>\n",
              "      <th>topic_21</th>\n",
              "      <th>topic_22</th>\n",
              "      <th>topic_23</th>\n",
              "      <th>topic_24</th>\n",
              "      <th>churn</th>\n",
              "    </tr>\n",
              "  </thead>\n",
              "  <tbody>\n",
              "    <tr>\n",
              "      <th>0</th>\n",
              "      <td>u105138</td>\n",
              "      <td>0.036733</td>\n",
              "      <td>0.125485</td>\n",
              "      <td>0.087369</td>\n",
              "      <td>0.385163</td>\n",
              "      <td>0.278905</td>\n",
              "      <td>0.313474</td>\n",
              "      <td>0.011831</td>\n",
              "      <td>0.000000</td>\n",
              "      <td>0.040865</td>\n",
              "      <td>0.000000</td>\n",
              "      <td>0.033538</td>\n",
              "      <td>0.183148</td>\n",
              "      <td>0.000000</td>\n",
              "      <td>0.177751</td>\n",
              "      <td>0.175176</td>\n",
              "      <td>0.011280</td>\n",
              "      <td>0.366539</td>\n",
              "      <td>0.191868</td>\n",
              "      <td>0.039291</td>\n",
              "      <td>0.172273</td>\n",
              "      <td>0.042896</td>\n",
              "      <td>0.091514</td>\n",
              "      <td>0.098864</td>\n",
              "      <td>0.485920</td>\n",
              "      <td>0.000000</td>\n",
              "      <td>0</td>\n",
              "    </tr>\n",
              "    <tr>\n",
              "      <th>1</th>\n",
              "      <td>u108690</td>\n",
              "      <td>0.046595</td>\n",
              "      <td>0.083369</td>\n",
              "      <td>0.269954</td>\n",
              "      <td>0.019870</td>\n",
              "      <td>0.582368</td>\n",
              "      <td>0.140508</td>\n",
              "      <td>0.011121</td>\n",
              "      <td>0.020369</td>\n",
              "      <td>0.000000</td>\n",
              "      <td>0.054518</td>\n",
              "      <td>0.090467</td>\n",
              "      <td>0.118871</td>\n",
              "      <td>0.069962</td>\n",
              "      <td>0.183747</td>\n",
              "      <td>0.065994</td>\n",
              "      <td>0.018562</td>\n",
              "      <td>0.155343</td>\n",
              "      <td>0.089899</td>\n",
              "      <td>0.052465</td>\n",
              "      <td>0.141601</td>\n",
              "      <td>0.000000</td>\n",
              "      <td>0.126791</td>\n",
              "      <td>0.156112</td>\n",
              "      <td>0.281060</td>\n",
              "      <td>0.251861</td>\n",
              "      <td>1</td>\n",
              "    </tr>\n",
              "    <tr>\n",
              "      <th>2</th>\n",
              "      <td>u108339</td>\n",
              "      <td>0.015997</td>\n",
              "      <td>0.000000</td>\n",
              "      <td>0.257945</td>\n",
              "      <td>0.030760</td>\n",
              "      <td>0.460235</td>\n",
              "      <td>0.000000</td>\n",
              "      <td>0.115602</td>\n",
              "      <td>0.013334</td>\n",
              "      <td>0.000000</td>\n",
              "      <td>0.000000</td>\n",
              "      <td>0.054469</td>\n",
              "      <td>0.253990</td>\n",
              "      <td>0.010652</td>\n",
              "      <td>0.183673</td>\n",
              "      <td>0.110723</td>\n",
              "      <td>0.014727</td>\n",
              "      <td>0.335691</td>\n",
              "      <td>0.076207</td>\n",
              "      <td>0.183539</td>\n",
              "      <td>0.125971</td>\n",
              "      <td>0.021198</td>\n",
              "      <td>0.240201</td>\n",
              "      <td>0.099147</td>\n",
              "      <td>0.217371</td>\n",
              "      <td>0.064077</td>\n",
              "      <td>1</td>\n",
              "    </tr>\n",
              "    <tr>\n",
              "      <th>3</th>\n",
              "      <td>u101138</td>\n",
              "      <td>0.058353</td>\n",
              "      <td>0.040631</td>\n",
              "      <td>0.233474</td>\n",
              "      <td>0.238508</td>\n",
              "      <td>0.000000</td>\n",
              "      <td>0.291734</td>\n",
              "      <td>0.206601</td>\n",
              "      <td>0.048400</td>\n",
              "      <td>0.159909</td>\n",
              "      <td>0.013755</td>\n",
              "      <td>0.032610</td>\n",
              "      <td>0.000000</td>\n",
              "      <td>0.000000</td>\n",
              "      <td>0.020423</td>\n",
              "      <td>0.021031</td>\n",
              "      <td>0.529036</td>\n",
              "      <td>0.000000</td>\n",
              "      <td>0.165502</td>\n",
              "      <td>0.158011</td>\n",
              "      <td>0.370511</td>\n",
              "      <td>0.242179</td>\n",
              "      <td>0.074949</td>\n",
              "      <td>0.080439</td>\n",
              "      <td>0.109833</td>\n",
              "      <td>0.456834</td>\n",
              "      <td>0</td>\n",
              "    </tr>\n",
              "    <tr>\n",
              "      <th>4</th>\n",
              "      <td>u108248</td>\n",
              "      <td>0.111069</td>\n",
              "      <td>0.000000</td>\n",
              "      <td>0.094461</td>\n",
              "      <td>0.201825</td>\n",
              "      <td>0.385154</td>\n",
              "      <td>0.121419</td>\n",
              "      <td>0.208255</td>\n",
              "      <td>0.028609</td>\n",
              "      <td>0.020391</td>\n",
              "      <td>0.118599</td>\n",
              "      <td>0.298461</td>\n",
              "      <td>0.080747</td>\n",
              "      <td>0.139226</td>\n",
              "      <td>0.079130</td>\n",
              "      <td>0.052699</td>\n",
              "      <td>0.153136</td>\n",
              "      <td>0.248823</td>\n",
              "      <td>0.072314</td>\n",
              "      <td>0.065594</td>\n",
              "      <td>0.169516</td>\n",
              "      <td>0.010926</td>\n",
              "      <td>0.062408</td>\n",
              "      <td>0.161828</td>\n",
              "      <td>0.310063</td>\n",
              "      <td>0.164888</td>\n",
              "      <td>1</td>\n",
              "    </tr>\n",
              "  </tbody>\n",
              "</table>\n",
              "</div>"
            ],
            "text/plain": [
              "       uid   topic_0   topic_1   topic_2  ...  topic_22  topic_23  topic_24  churn\n",
              "0  u105138  0.036733  0.125485  0.087369  ...  0.098864  0.485920  0.000000      0\n",
              "1  u108690  0.046595  0.083369  0.269954  ...  0.156112  0.281060  0.251861      1\n",
              "2  u108339  0.015997  0.000000  0.257945  ...  0.099147  0.217371  0.064077      1\n",
              "3  u101138  0.058353  0.040631  0.233474  ...  0.080439  0.109833  0.456834      0\n",
              "4  u108248  0.111069  0.000000  0.094461  ...  0.161828  0.310063  0.164888      1\n",
              "\n",
              "[5 rows x 27 columns]"
            ]
          },
          "metadata": {
            "tags": []
          },
          "execution_count": 105
        }
      ]
    },
    {
      "cell_type": "code",
      "metadata": {
        "id": "Un-dl_vDMIHM"
      },
      "source": [
        "from sklearn.linear_model import LogisticRegression\n",
        "from sklearn.model_selection import train_test_split\n",
        "#import itertools\n",
        "\n",
        "import matplotlib.pyplot as plt\n",
        "\n",
        "%matplotlib inline"
      ],
      "execution_count": 77,
      "outputs": []
    },
    {
      "cell_type": "code",
      "metadata": {
        "id": "rzq-WEIJMIHO",
        "colab": {
          "base_uri": "https://localhost:8080/"
        },
        "outputId": "6d9cdb91-4200-421f-9ec8-358fe261e55d"
      },
      "source": [
        "#разделим данные на train/test\n",
        "for item in result:\n",
        "  X = item['X']\n",
        "  item['X_train'], item['X_test'], item['y_train'], item['y_test'] = train_test_split(X[['topic_{}'.format(i) for i in range(25)]], \n",
        "                                                    X['churn'], random_state=0)\n",
        " \n",
        "#посмотрим для max\n",
        "result[2]['X_train'].shape, result[2]['y_train'].shape, result[2]['X_test'].shape, result[2]['y_test'].shape"
      ],
      "execution_count": 106,
      "outputs": [
        {
          "output_type": "execute_result",
          "data": {
            "text/plain": [
              "((6000, 25), (6000,), (2000, 25), (2000,))"
            ]
          },
          "metadata": {
            "tags": []
          },
          "execution_count": 106
        }
      ]
    },
    {
      "cell_type": "code",
      "metadata": {
        "id": "EBQsn00QMIHO"
      },
      "source": [
        "for item in result:\n",
        "  item['logreg'] = LogisticRegression()\n",
        "  #обучим наш пайплайн\n",
        "  item['logreg'].fit(item['X_train'], item['y_train'])"
      ],
      "execution_count": 107,
      "outputs": []
    },
    {
      "cell_type": "code",
      "metadata": {
        "id": "GqftFfoOMIHP"
      },
      "source": [
        "for item in result:\n",
        "  #наши прогнозы для тестовой выборки\n",
        "  item['preds'] = item['logreg'].predict_proba(item['X_test'])[:, 1]"
      ],
      "execution_count": 108,
      "outputs": []
    },
    {
      "cell_type": "code",
      "metadata": {
        "colab": {
          "base_uri": "https://localhost:8080/"
        },
        "id": "SgAJVyRhF302",
        "outputId": "03ba7b18-5f4f-49e1-c33a-fa53b6de8d42"
      },
      "source": [
        "#посмотрим mean\r\n",
        "result[0]['preds'][:10]"
      ],
      "execution_count": 101,
      "outputs": [
        {
          "output_type": "execute_result",
          "data": {
            "text/plain": [
              "array([0.22028335, 0.02466419, 0.64155444, 0.17153499, 0.03162609,\n",
              "       0.01912997, 0.07368393, 0.06305652, 0.14509531, 0.14293979])"
            ]
          },
          "metadata": {
            "tags": []
          },
          "execution_count": 101
        }
      ]
    },
    {
      "cell_type": "code",
      "metadata": {
        "colab": {
          "base_uri": "https://localhost:8080/"
        },
        "id": "vMXmV8XuGBw_",
        "outputId": "97158de0-3318-4bd9-edbd-0897f1c5664c"
      },
      "source": [
        "#посмотрим median\r\n",
        "result[1]['preds'][:10]"
      ],
      "execution_count": 99,
      "outputs": [
        {
          "output_type": "execute_result",
          "data": {
            "text/plain": [
              "array([0.22304962, 0.0509476 , 0.53456514, 0.13073341, 0.01510098,\n",
              "       0.02057859, 0.11213357, 0.03698096, 0.11889475, 0.05871333])"
            ]
          },
          "metadata": {
            "tags": []
          },
          "execution_count": 99
        }
      ]
    },
    {
      "cell_type": "code",
      "metadata": {
        "colab": {
          "base_uri": "https://localhost:8080/"
        },
        "id": "skfX4SZzGGiD",
        "outputId": "a6ad414d-5530-41e6-e4cd-7d36991ad548"
      },
      "source": [
        "#посмотрим median\r\n",
        "result[2]['preds'][:10]"
      ],
      "execution_count": 100,
      "outputs": [
        {
          "output_type": "execute_result",
          "data": {
            "text/plain": [
              "array([6.63881441e-02, 7.86636449e-04, 8.70429459e-01, 2.44709184e-01,\n",
              "       4.33719657e-02, 7.62836593e-02, 4.31836339e-02, 2.50382212e-02,\n",
              "       6.12817374e-02, 2.76287767e-01])"
            ]
          },
          "metadata": {
            "tags": []
          },
          "execution_count": 100
        }
      ]
    },
    {
      "cell_type": "code",
      "metadata": {
        "id": "nQKM7kKtMIHU"
      },
      "source": [
        "from sklearn.metrics import f1_score, roc_auc_score, precision_score, classification_report, precision_recall_curve, confusion_matrix"
      ],
      "execution_count": 109,
      "outputs": []
    },
    {
      "cell_type": "markdown",
      "metadata": {
        "id": "_X_oDrlNMIHV"
      },
      "source": [
        "### Рассчитаем Precision, Recall, F_score"
      ]
    },
    {
      "cell_type": "code",
      "metadata": {
        "id": "J04r8edvMIHV"
      },
      "source": [
        "for item in result:\n",
        "  precision, recall, thresholds = precision_recall_curve(item['y_test'], item['preds'])\n",
        "  fscore = (2 * precision * recall) / (precision + recall)\n",
        "\n",
        "  ix = np.argmax(fscore)\n",
        "  item['precision']   = precision[ix]\n",
        "  item['recall']      = recall[ix]\n",
        "  item['thresholds']  = thresholds[ix]\n",
        "  item['fscore']      = fscore[ix]\n",
        "\n",
        "  item['roc_auc']      = roc_auc_score(item['y_test'], item['preds'])"
      ],
      "execution_count": 114,
      "outputs": []
    },
    {
      "cell_type": "markdown",
      "metadata": {
        "id": "lU0w2KRCJGPs"
      },
      "source": [
        "## Итоговый результат"
      ]
    },
    {
      "cell_type": "code",
      "metadata": {
        "colab": {
          "base_uri": "https://localhost:8080/",
          "height": 137
        },
        "id": "07L2qs42JKfn",
        "outputId": "7401e39b-0a2a-4ce2-fb84-d922394d9b4c"
      },
      "source": [
        "data = []\r\n",
        "for item in result:\r\n",
        "  data.append([item['func'].__name__, item['precision'], item['recall'], item['fscore'], item['roc_auc']])\r\n",
        "\r\n",
        "table_result = pd.DataFrame(data, columns=['func', 'precision', 'recall', 'fscore', 'roc_auc'])\r\n",
        "table_result\r\n"
      ],
      "execution_count": 121,
      "outputs": [
        {
          "output_type": "execute_result",
          "data": {
            "text/html": [
              "<div>\n",
              "<style scoped>\n",
              "    .dataframe tbody tr th:only-of-type {\n",
              "        vertical-align: middle;\n",
              "    }\n",
              "\n",
              "    .dataframe tbody tr th {\n",
              "        vertical-align: top;\n",
              "    }\n",
              "\n",
              "    .dataframe thead th {\n",
              "        text-align: right;\n",
              "    }\n",
              "</style>\n",
              "<table border=\"1\" class=\"dataframe\">\n",
              "  <thead>\n",
              "    <tr style=\"text-align: right;\">\n",
              "      <th></th>\n",
              "      <th>func</th>\n",
              "      <th>precision</th>\n",
              "      <th>recall</th>\n",
              "      <th>fscore</th>\n",
              "      <th>roc_auc</th>\n",
              "    </tr>\n",
              "  </thead>\n",
              "  <tbody>\n",
              "    <tr>\n",
              "      <th>0</th>\n",
              "      <td>mean</td>\n",
              "      <td>0.634069</td>\n",
              "      <td>0.820408</td>\n",
              "      <td>0.715302</td>\n",
              "      <td>0.956781</td>\n",
              "    </tr>\n",
              "    <tr>\n",
              "      <th>1</th>\n",
              "      <td>median</td>\n",
              "      <td>0.772201</td>\n",
              "      <td>0.816327</td>\n",
              "      <td>0.793651</td>\n",
              "      <td>0.974047</td>\n",
              "    </tr>\n",
              "    <tr>\n",
              "      <th>2</th>\n",
              "      <td>amax</td>\n",
              "      <td>0.706320</td>\n",
              "      <td>0.775510</td>\n",
              "      <td>0.739300</td>\n",
              "      <td>0.961286</td>\n",
              "    </tr>\n",
              "  </tbody>\n",
              "</table>\n",
              "</div>"
            ],
            "text/plain": [
              "     func  precision    recall    fscore   roc_auc\n",
              "0    mean   0.634069  0.820408  0.715302  0.956781\n",
              "1  median   0.772201  0.816327  0.793651  0.974047\n",
              "2    amax   0.706320  0.775510  0.739300  0.961286"
            ]
          },
          "metadata": {
            "tags": []
          },
          "execution_count": 121
        }
      ]
    },
    {
      "cell_type": "markdown",
      "metadata": {
        "id": "pZlvxEzANFq6"
      },
      "source": [
        "__Выводы__\r\n",
        "С учетом, что мы получили в функции `get_user_embedding` в переменную `user_vector` профиль распредения тем по документам (вероятность соответствия документу определенной теме), то наиболее логичным мне казалось брать именно максимальное значение, т.е. тему с наибольшим значением вероятности. Брать среднее значение вероятности, мне кажется не очень логичным.\r\n",
        "\r\n",
        "Как видим показатели этой функции оказались на втором месте. Но почему именно медиана показала максимальный метрики, я так и не понял.\r\n"
      ]
    },
    {
      "cell_type": "code",
      "metadata": {
        "id": "YG_vQMQrO0a_"
      },
      "source": [
        ""
      ],
      "execution_count": null,
      "outputs": []
    }
  ]
}