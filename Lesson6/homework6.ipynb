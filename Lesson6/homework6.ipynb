{
 "cells": [
  {
   "cell_type": "markdown",
   "metadata": {},
   "source": [
    "# Домашка 6"
   ]
  },
  {
   "cell_type": "markdown",
   "metadata": {},
   "source": [
    "1. взять любой набор данных для бинарной классификации (можно скачать один из модельных с https://archive.ics.uci.edu/ml/datasets.php)\n",
    "3. сделать feature engineering\n",
    "4. обучить любой классификатор (какой вам нравится)\n",
    "5. далее разделить ваш набор данных на два множества: P (positives) и U (unlabeled). Причем брать нужно не все положительные (класс 1) примеры, а только лишь часть\n",
    "6. применить random negative sampling для построения классификатора в новых условиях\n",
    "7. сравнить качество с решением из пункта 4 (построить отчет - таблицу метрик)\n",
    "8. поэкспериментировать с долей P на шаге 5 (как будет меняться качество модели при уменьшении/увеличении размера P)\n",
    "\n",
    "<b>Бонусный вопрос:</b>\n",
    "\n",
    "Как вы думаете, какой из методов на практике является более предпочтительным: random negative sampling или 2-step approach?"
   ]
  },
  {
   "cell_type": "markdown",
   "metadata": {},
   "source": [
    "### Решение\n",
    "\n",
    "Возьмем датасет из репозитория UCI. Датасет содержит данные о взрослых людях, размеченных на 2 класса: кто зарабатывает до 50K в год и больше 50К в год.\n",
    "\n",
    "Описание данных - https://archive.ics.uci.edu/ml/datasets/Adult"
   ]
  },
  {
   "cell_type": "code",
   "execution_count": 92,
   "metadata": {},
   "outputs": [
    {
     "name": "stdout",
     "output_type": "stream",
     "text": [
      "(32560, 15)\n"
     ]
    },
    {
     "data": {
      "text/html": [
       "<div>\n",
       "<style scoped>\n",
       "    .dataframe tbody tr th:only-of-type {\n",
       "        vertical-align: middle;\n",
       "    }\n",
       "\n",
       "    .dataframe tbody tr th {\n",
       "        vertical-align: top;\n",
       "    }\n",
       "\n",
       "    .dataframe thead th {\n",
       "        text-align: right;\n",
       "    }\n",
       "</style>\n",
       "<table border=\"1\" class=\"dataframe\">\n",
       "  <thead>\n",
       "    <tr style=\"text-align: right;\">\n",
       "      <th></th>\n",
       "      <th>39</th>\n",
       "      <th>State-gov</th>\n",
       "      <th>77516</th>\n",
       "      <th>Bachelors</th>\n",
       "      <th>13</th>\n",
       "      <th>Never-married</th>\n",
       "      <th>Adm-clerical</th>\n",
       "      <th>Not-in-family</th>\n",
       "      <th>White</th>\n",
       "      <th>Male</th>\n",
       "      <th>2174</th>\n",
       "      <th>0</th>\n",
       "      <th>40</th>\n",
       "      <th>United-States</th>\n",
       "      <th>&lt;=50K</th>\n",
       "    </tr>\n",
       "  </thead>\n",
       "  <tbody>\n",
       "    <tr>\n",
       "      <th>0</th>\n",
       "      <td>50</td>\n",
       "      <td>Self-emp-not-inc</td>\n",
       "      <td>83311</td>\n",
       "      <td>Bachelors</td>\n",
       "      <td>13</td>\n",
       "      <td>Married-civ-spouse</td>\n",
       "      <td>Exec-managerial</td>\n",
       "      <td>Husband</td>\n",
       "      <td>White</td>\n",
       "      <td>Male</td>\n",
       "      <td>0</td>\n",
       "      <td>0</td>\n",
       "      <td>13</td>\n",
       "      <td>United-States</td>\n",
       "      <td>&lt;=50K</td>\n",
       "    </tr>\n",
       "    <tr>\n",
       "      <th>1</th>\n",
       "      <td>38</td>\n",
       "      <td>Private</td>\n",
       "      <td>215646</td>\n",
       "      <td>HS-grad</td>\n",
       "      <td>9</td>\n",
       "      <td>Divorced</td>\n",
       "      <td>Handlers-cleaners</td>\n",
       "      <td>Not-in-family</td>\n",
       "      <td>White</td>\n",
       "      <td>Male</td>\n",
       "      <td>0</td>\n",
       "      <td>0</td>\n",
       "      <td>40</td>\n",
       "      <td>United-States</td>\n",
       "      <td>&lt;=50K</td>\n",
       "    </tr>\n",
       "  </tbody>\n",
       "</table>\n",
       "</div>"
      ],
      "text/plain": [
       "   39          State-gov   77516   Bachelors   13        Never-married  \\\n",
       "0  50   Self-emp-not-inc   83311   Bachelors   13   Married-civ-spouse   \n",
       "1  38            Private  215646     HS-grad    9             Divorced   \n",
       "\n",
       "         Adm-clerical   Not-in-family   White   Male   2174   0   40  \\\n",
       "0     Exec-managerial         Husband   White   Male      0   0   13   \n",
       "1   Handlers-cleaners   Not-in-family   White   Male      0   0   40   \n",
       "\n",
       "    United-States   <=50K  \n",
       "0   United-States   <=50K  \n",
       "1   United-States   <=50K  "
      ]
     },
     "execution_count": 92,
     "metadata": {},
     "output_type": "execute_result"
    }
   ],
   "source": [
    "import pandas as pd\n",
    "import numpy as np\n",
    "data = pd.read_csv(\"adult.data\")\n",
    "print(data.shape)\n",
    "data.head(2)"
   ]
  },
  {
   "cell_type": "code",
   "execution_count": 93,
   "metadata": {},
   "outputs": [],
   "source": [
    "# переименуем и преобразуем целевую колонку\n",
    "cols = data.columns.tolist()\n",
    "cols[-1] = 'more_50K'\n",
    "data.columns = cols\n",
    "\n",
    "data.loc[data['more_50K']==' <=50K', 'more_50K'] = 0\n",
    "data.loc[data['more_50K']==' >50K', 'more_50K'] = 1\n",
    "data['more_50K'] = data['more_50K'].astype('int')"
   ]
  },
  {
   "cell_type": "code",
   "execution_count": 94,
   "metadata": {},
   "outputs": [],
   "source": [
    "cols = data.columns\n",
    "cols_new = []\n",
    "for col in cols:\n",
    "    cols_new.append(str(col).strip())\n",
    "    \n",
    "data.columns = cols_new"
   ]
  },
  {
   "cell_type": "code",
   "execution_count": 95,
   "metadata": {},
   "outputs": [
    {
     "name": "stdout",
     "output_type": "stream",
     "text": [
      "0    0.759183\n",
      "1    0.240817\n",
      "Name: more_50K, dtype: float64\n"
     ]
    },
    {
     "data": {
      "text/html": [
       "<div>\n",
       "<style scoped>\n",
       "    .dataframe tbody tr th:only-of-type {\n",
       "        vertical-align: middle;\n",
       "    }\n",
       "\n",
       "    .dataframe tbody tr th {\n",
       "        vertical-align: top;\n",
       "    }\n",
       "\n",
       "    .dataframe thead th {\n",
       "        text-align: right;\n",
       "    }\n",
       "</style>\n",
       "<table border=\"1\" class=\"dataframe\">\n",
       "  <thead>\n",
       "    <tr style=\"text-align: right;\">\n",
       "      <th></th>\n",
       "      <th>39</th>\n",
       "      <th>State-gov</th>\n",
       "      <th>77516</th>\n",
       "      <th>Bachelors</th>\n",
       "      <th>13</th>\n",
       "      <th>Never-married</th>\n",
       "      <th>Adm-clerical</th>\n",
       "      <th>Not-in-family</th>\n",
       "      <th>White</th>\n",
       "      <th>Male</th>\n",
       "      <th>2174</th>\n",
       "      <th>0</th>\n",
       "      <th>40</th>\n",
       "      <th>United-States</th>\n",
       "      <th>more_50K</th>\n",
       "    </tr>\n",
       "  </thead>\n",
       "  <tbody>\n",
       "    <tr>\n",
       "      <th>32557</th>\n",
       "      <td>58</td>\n",
       "      <td>Private</td>\n",
       "      <td>151910</td>\n",
       "      <td>HS-grad</td>\n",
       "      <td>9</td>\n",
       "      <td>Widowed</td>\n",
       "      <td>Adm-clerical</td>\n",
       "      <td>Unmarried</td>\n",
       "      <td>White</td>\n",
       "      <td>Female</td>\n",
       "      <td>0</td>\n",
       "      <td>0</td>\n",
       "      <td>40</td>\n",
       "      <td>United-States</td>\n",
       "      <td>0</td>\n",
       "    </tr>\n",
       "    <tr>\n",
       "      <th>32558</th>\n",
       "      <td>22</td>\n",
       "      <td>Private</td>\n",
       "      <td>201490</td>\n",
       "      <td>HS-grad</td>\n",
       "      <td>9</td>\n",
       "      <td>Never-married</td>\n",
       "      <td>Adm-clerical</td>\n",
       "      <td>Own-child</td>\n",
       "      <td>White</td>\n",
       "      <td>Male</td>\n",
       "      <td>0</td>\n",
       "      <td>0</td>\n",
       "      <td>20</td>\n",
       "      <td>United-States</td>\n",
       "      <td>0</td>\n",
       "    </tr>\n",
       "    <tr>\n",
       "      <th>32559</th>\n",
       "      <td>52</td>\n",
       "      <td>Self-emp-inc</td>\n",
       "      <td>287927</td>\n",
       "      <td>HS-grad</td>\n",
       "      <td>9</td>\n",
       "      <td>Married-civ-spouse</td>\n",
       "      <td>Exec-managerial</td>\n",
       "      <td>Wife</td>\n",
       "      <td>White</td>\n",
       "      <td>Female</td>\n",
       "      <td>15024</td>\n",
       "      <td>0</td>\n",
       "      <td>40</td>\n",
       "      <td>United-States</td>\n",
       "      <td>1</td>\n",
       "    </tr>\n",
       "  </tbody>\n",
       "</table>\n",
       "</div>"
      ],
      "text/plain": [
       "       39      State-gov   77516 Bachelors  13        Never-married  \\\n",
       "32557  58        Private  151910   HS-grad   9              Widowed   \n",
       "32558  22        Private  201490   HS-grad   9        Never-married   \n",
       "32559  52   Self-emp-inc  287927   HS-grad   9   Married-civ-spouse   \n",
       "\n",
       "           Adm-clerical Not-in-family   White     Male   2174  0  40  \\\n",
       "32557      Adm-clerical     Unmarried   White   Female      0  0  40   \n",
       "32558      Adm-clerical     Own-child   White     Male      0  0  20   \n",
       "32559   Exec-managerial          Wife   White   Female  15024  0  40   \n",
       "\n",
       "        United-States  more_50K  \n",
       "32557   United-States         0  \n",
       "32558   United-States         0  \n",
       "32559   United-States         1  "
      ]
     },
     "execution_count": 95,
     "metadata": {},
     "output_type": "execute_result"
    }
   ],
   "source": [
    "print(data['more_50K'].value_counts(normalize=True))\n",
    "data.tail(3)"
   ]
  },
  {
   "cell_type": "code",
   "execution_count": 96,
   "metadata": {},
   "outputs": [
    {
     "data": {
      "text/plain": [
       "((26048, 14), (6512, 14), (26048,), (6512,))"
      ]
     },
     "execution_count": 96,
     "metadata": {},
     "output_type": "execute_result"
    }
   ],
   "source": [
    "from sklearn.model_selection import train_test_split\n",
    "\n",
    "x_data = data.iloc[:,:-1]\n",
    "y_data = data.iloc[:,-1]\n",
    "\n",
    "x_train, x_test, y_train, y_test = train_test_split(x_data, y_data, test_size=0.2, random_state=7)\n",
    "x_train.shape, x_test.shape, y_train.shape, y_test.shape"
   ]
  },
  {
   "cell_type": "code",
   "execution_count": 97,
   "metadata": {},
   "outputs": [
    {
     "name": "stdout",
     "output_type": "stream",
     "text": [
      "<class 'pandas.core.frame.DataFrame'>\n",
      "RangeIndex: 32560 entries, 0 to 32559\n",
      "Data columns (total 15 columns):\n",
      " #   Column         Non-Null Count  Dtype \n",
      "---  ------         --------------  ----- \n",
      " 0   39             32560 non-null  int64 \n",
      " 1   State-gov      32560 non-null  object\n",
      " 2   77516          32560 non-null  int64 \n",
      " 3   Bachelors      32560 non-null  object\n",
      " 4   13             32560 non-null  int64 \n",
      " 5   Never-married  32560 non-null  object\n",
      " 6   Adm-clerical   32560 non-null  object\n",
      " 7   Not-in-family  32560 non-null  object\n",
      " 8   White          32560 non-null  object\n",
      " 9   Male           32560 non-null  object\n",
      " 10  2174           32560 non-null  int64 \n",
      " 11  0              32560 non-null  int64 \n",
      " 12  40             32560 non-null  int64 \n",
      " 13  United-States  32560 non-null  object\n",
      " 14  more_50K       32560 non-null  int32 \n",
      "dtypes: int32(1), int64(6), object(8)\n",
      "memory usage: 3.6+ MB\n"
     ]
    }
   ],
   "source": [
    "data.info()"
   ]
  },
  {
   "cell_type": "code",
   "execution_count": 112,
   "metadata": {},
   "outputs": [],
   "source": [
    "import catboost as ctb\n",
    "cat_feats = ['State-gov', 'Bachelors', 'Never-married', 'Adm-clerical', 'Not-in-family', 'White', 'Male', 'United-States']\n",
    "\n",
    "model = ctb.CatBoostClassifier(cat_features=cat_feats, random_state=123, verbose=False)"
   ]
  },
  {
   "cell_type": "code",
   "execution_count": 113,
   "metadata": {
    "scrolled": false
   },
   "outputs": [
    {
     "name": "stdout",
     "output_type": "stream",
     "text": [
      "Wall time: 1min 2s\n"
     ]
    }
   ],
   "source": [
    "%%time\n",
    "\n",
    "model.fit(x_train, y_train)\n",
    "y_predict = model.predict(x_test)"
   ]
  },
  {
   "cell_type": "code",
   "execution_count": 123,
   "metadata": {},
   "outputs": [
    {
     "name": "stdout",
     "output_type": "stream",
     "text": [
      "Classification results:\n",
      "f1: 71.68%\n",
      "roc: 80.13%\n",
      "recall: 66.29%\n",
      "precision: 78.02%\n"
     ]
    }
   ],
   "source": [
    "from sklearn.metrics import recall_score, precision_score, roc_auc_score, accuracy_score, f1_score\n",
    "\n",
    "results = []\n",
    "\n",
    "def evaluate_results(y_test, y_predict, model_title: str, results: list):\n",
    "    print('Classification results:')\n",
    "    f1 = f1_score(y_test, y_predict)\n",
    "    print(\"f1: %.2f%%\" % (f1 * 100.0)) \n",
    "    roc = roc_auc_score(y_test, y_predict)\n",
    "    print(\"roc: %.2f%%\" % (roc * 100.0)) \n",
    "    rec = recall_score(y_test, y_predict, average='binary')\n",
    "    print(\"recall: %.2f%%\" % (rec * 100.0)) \n",
    "    prc = precision_score(y_test, y_predict, average='binary')\n",
    "    print(\"precision: %.2f%%\" % (prc * 100.0)) \n",
    "\n",
    "    res = {'model': model_title, 'roc': roc, 'f1': f1, 'recall': rec, 'precision': prc}\n",
    "    results.append(res)\n",
    "\n",
    "    \n",
    "evaluate_results(y_test, y_predict, 'classifier', results)"
   ]
  },
  {
   "cell_type": "code",
   "execution_count": 115,
   "metadata": {},
   "outputs": [
    {
     "data": {
      "text/plain": [
       "[{'model': 'classifier',\n",
       "  'roc': 0.801275878548118,\n",
       "  'f1': 0.7167630057803468,\n",
       "  'recall': 0.6628930817610063,\n",
       "  'precision': 0.7801628423390081}]"
      ]
     },
     "execution_count": 115,
     "metadata": {},
     "output_type": "execute_result"
    }
   ],
   "source": [
    "results"
   ]
  },
  {
   "cell_type": "markdown",
   "metadata": {},
   "source": [
    "### Теперь попробуем PU Learning"
   ]
  },
  {
   "cell_type": "code",
   "execution_count": 118,
   "metadata": {},
   "outputs": [],
   "source": [
    "def learn_pu_learning_model(data, positive_rate):\n",
    "    \n",
    "    mod_data = data.copy()\n",
    "    #get the indices of the positives samples\n",
    "    pos_ind = np.where(mod_data.iloc[:,-1].values == 1)[0]\n",
    "    #shuffle them\n",
    "    np.random.shuffle(pos_ind)\n",
    "    # leave just 25% of the positives marked\n",
    "    pos_sample_len = int(np.ceil(positive_rate * len(pos_ind)))\n",
    "    print(f'Using {pos_sample_len}/{len(pos_ind)} as positives and unlabeling the rest')\n",
    "    pos_sample = pos_ind[:pos_sample_len]\n",
    "    \n",
    "    mod_data['class_test'] = -1\n",
    "    mod_data.loc[pos_sample,'class_test'] = 1\n",
    "    print('target variable:\\n', mod_data.iloc[:,-1].value_counts())\n",
    "    \n",
    "    x_data = mod_data.iloc[:,:-2].values # just the X \n",
    "    y_labeled = mod_data.iloc[:,-1].values # new class (just the P & U)\n",
    "    y_positive = mod_data.iloc[:,-2].values # original class\n",
    "    \n",
    "    mod_data = mod_data.sample(frac=1)\n",
    "    neg_sample = mod_data[mod_data['class_test']==-1][:len(mod_data[mod_data['class_test']==1])]\n",
    "    sample_test = mod_data[mod_data['class_test']==-1][len(mod_data[mod_data['class_test']==1]):]\n",
    "    pos_sample = mod_data[mod_data['class_test']==1]\n",
    "    print(neg_sample.shape, pos_sample.shape)\n",
    "    sample_train = pd.concat([neg_sample, pos_sample]).sample(frac=1)\n",
    "    \n",
    "    model = ctb.CatBoostClassifier(cat_features=cat_feats, random_state=123, verbose=False)\n",
    "    \n",
    "    model.fit(sample_train.iloc[:,:-2], \n",
    "    sample_train.iloc[:,-2])\n",
    "    y_predict = model.predict(sample_test.iloc[:,:-2])\n",
    "    \n",
    "    evaluate_results(sample_test.iloc[:,-2], y_predict, 'PU_{}'.format(positive_rate), results)"
   ]
  },
  {
   "cell_type": "code",
   "execution_count": 124,
   "metadata": {},
   "outputs": [
    {
     "name": "stdout",
     "output_type": "stream",
     "text": [
      "Using 785/7841 as positives and unlabeling the rest\n",
      "target variable:\n",
      " -1    31775\n",
      " 1      785\n",
      "Name: class_test, dtype: int64\n",
      "(785, 16) (785, 16)\n",
      "Classification results:\n",
      "f1: 64.56%\n",
      "roc: 82.21%\n",
      "recall: 89.72%\n",
      "precision: 50.42%\n",
      "Wall time: 29.7 s\n"
     ]
    }
   ],
   "source": [
    "%%time\n",
    "learn_pu_learning_model(data, positive_rate=0.1)"
   ]
  },
  {
   "cell_type": "code",
   "execution_count": 125,
   "metadata": {
    "scrolled": true
   },
   "outputs": [
    {
     "name": "stdout",
     "output_type": "stream",
     "text": [
      "Using 1961/7841 as positives and unlabeling the rest\n",
      "target variable:\n",
      " -1    30599\n",
      " 1     1961\n",
      "Name: class_test, dtype: int64\n",
      "(1961, 16) (1961, 16)\n",
      "Classification results:\n",
      "f1: 60.71%\n",
      "roc: 82.76%\n",
      "recall: 91.80%\n",
      "precision: 45.35%\n",
      "Wall time: 32.9 s\n"
     ]
    }
   ],
   "source": [
    "%%time\n",
    "learn_pu_learning_model(data, positive_rate=0.25)"
   ]
  },
  {
   "cell_type": "code",
   "execution_count": 126,
   "metadata": {},
   "outputs": [
    {
     "name": "stdout",
     "output_type": "stream",
     "text": [
      "Using 3137/7841 as positives and unlabeling the rest\n",
      "target variable:\n",
      " -1    29423\n",
      " 1     3137\n",
      "Name: class_test, dtype: int64\n",
      "(3137, 16) (3137, 16)\n",
      "Classification results:\n",
      "f1: 57.16%\n",
      "roc: 83.14%\n",
      "recall: 90.19%\n",
      "precision: 41.84%\n",
      "Wall time: 35.4 s\n"
     ]
    }
   ],
   "source": [
    "%%time\n",
    "learn_pu_learning_model(data, positive_rate=0.40)"
   ]
  },
  {
   "cell_type": "code",
   "execution_count": 127,
   "metadata": {},
   "outputs": [
    {
     "name": "stdout",
     "output_type": "stream",
     "text": [
      "Using 4313/7841 as positives and unlabeling the rest\n",
      "target variable:\n",
      " -1    28247\n",
      " 1     4313\n",
      "Name: class_test, dtype: int64\n",
      "(4313, 16) (4313, 16)\n",
      "Classification results:\n",
      "f1: 52.63%\n",
      "roc: 84.23%\n",
      "recall: 90.56%\n",
      "precision: 37.09%\n",
      "Wall time: 41.6 s\n"
     ]
    }
   ],
   "source": [
    "%%time\n",
    "learn_pu_learning_model(data, positive_rate=0.55)"
   ]
  },
  {
   "cell_type": "code",
   "execution_count": 128,
   "metadata": {},
   "outputs": [
    {
     "name": "stdout",
     "output_type": "stream",
     "text": [
      "Using 5489/7841 as positives and unlabeling the rest\n",
      "target variable:\n",
      " -1    27071\n",
      " 1     5489\n",
      "Name: class_test, dtype: int64\n",
      "(5489, 16) (5489, 16)\n",
      "Classification results:\n",
      "f1: 43.82%\n",
      "roc: 84.13%\n",
      "recall: 89.07%\n",
      "precision: 29.06%\n",
      "Wall time: 1min\n"
     ]
    }
   ],
   "source": [
    "%%time\n",
    "learn_pu_learning_model(data, positive_rate=0.70)"
   ]
  },
  {
   "cell_type": "code",
   "execution_count": 132,
   "metadata": {},
   "outputs": [
    {
     "name": "stdout",
     "output_type": "stream",
     "text": [
      "Using 6665/7841 as positives and unlabeling the rest\n",
      "target variable:\n",
      " -1    25895\n",
      " 1     6665\n",
      "Name: class_test, dtype: int64\n",
      "(6665, 16) (6665, 16)\n",
      "Classification results:\n",
      "f1: 28.94%\n",
      "roc: 85.06%\n",
      "recall: 90.11%\n",
      "precision: 17.24%\n",
      "Wall time: 47.7 s\n"
     ]
    }
   ],
   "source": [
    "%%time\n",
    "learn_pu_learning_model(data, positive_rate=0.85)"
   ]
  },
  {
   "cell_type": "code",
   "execution_count": 134,
   "metadata": {},
   "outputs": [
    {
     "name": "stdout",
     "output_type": "stream",
     "text": [
      "Using 7763/7841 as positives and unlabeling the rest\n",
      "target variable:\n",
      " -1    24797\n",
      " 1     7763\n",
      "Name: class_test, dtype: int64\n",
      "(7763, 16) (7763, 16)\n",
      "Classification results:\n",
      "f1: 3.15%\n",
      "roc: 84.08%\n",
      "recall: 86.21%\n",
      "precision: 1.61%\n",
      "Wall time: 49.1 s\n"
     ]
    }
   ],
   "source": [
    "%%time\n",
    "learn_pu_learning_model(data, positive_rate=0.99)"
   ]
  },
  {
   "cell_type": "code",
   "execution_count": 136,
   "metadata": {},
   "outputs": [
    {
     "name": "stdout",
     "output_type": "stream",
     "text": [
      "Using 393/7841 as positives and unlabeling the rest\n",
      "target variable:\n",
      " -1    32167\n",
      " 1      393\n",
      "Name: class_test, dtype: int64\n",
      "(393, 16) (393, 16)\n",
      "Classification results:\n",
      "f1: 62.39%\n",
      "roc: 80.48%\n",
      "recall: 91.84%\n",
      "precision: 47.24%\n",
      "Wall time: 36.7 s\n"
     ]
    }
   ],
   "source": [
    "%%time\n",
    "learn_pu_learning_model(data, positive_rate=0.05)"
   ]
  },
  {
   "cell_type": "code",
   "execution_count": 140,
   "metadata": {
    "scrolled": false
   },
   "outputs": [
    {
     "data": {
      "text/html": [
       "<div>\n",
       "<style scoped>\n",
       "    .dataframe tbody tr th:only-of-type {\n",
       "        vertical-align: middle;\n",
       "    }\n",
       "\n",
       "    .dataframe tbody tr th {\n",
       "        vertical-align: top;\n",
       "    }\n",
       "\n",
       "    .dataframe thead th {\n",
       "        text-align: right;\n",
       "    }\n",
       "</style>\n",
       "<table border=\"1\" class=\"dataframe\">\n",
       "  <thead>\n",
       "    <tr style=\"text-align: right;\">\n",
       "      <th></th>\n",
       "      <th>model</th>\n",
       "      <th>roc</th>\n",
       "      <th>f1</th>\n",
       "      <th>recall</th>\n",
       "      <th>precision</th>\n",
       "    </tr>\n",
       "  </thead>\n",
       "  <tbody>\n",
       "    <tr>\n",
       "      <th>8</th>\n",
       "      <td>PU_0.05</td>\n",
       "      <td>0.80</td>\n",
       "      <td>0.62</td>\n",
       "      <td>0.92</td>\n",
       "      <td>0.47</td>\n",
       "    </tr>\n",
       "    <tr>\n",
       "      <th>1</th>\n",
       "      <td>PU_0.1</td>\n",
       "      <td>0.82</td>\n",
       "      <td>0.65</td>\n",
       "      <td>0.90</td>\n",
       "      <td>0.50</td>\n",
       "    </tr>\n",
       "    <tr>\n",
       "      <th>2</th>\n",
       "      <td>PU_0.25</td>\n",
       "      <td>0.83</td>\n",
       "      <td>0.61</td>\n",
       "      <td>0.92</td>\n",
       "      <td>0.45</td>\n",
       "    </tr>\n",
       "    <tr>\n",
       "      <th>3</th>\n",
       "      <td>PU_0.4</td>\n",
       "      <td>0.83</td>\n",
       "      <td>0.57</td>\n",
       "      <td>0.90</td>\n",
       "      <td>0.42</td>\n",
       "    </tr>\n",
       "    <tr>\n",
       "      <th>4</th>\n",
       "      <td>PU_0.55</td>\n",
       "      <td>0.84</td>\n",
       "      <td>0.53</td>\n",
       "      <td>0.91</td>\n",
       "      <td>0.37</td>\n",
       "    </tr>\n",
       "    <tr>\n",
       "      <th>5</th>\n",
       "      <td>PU_0.7</td>\n",
       "      <td>0.84</td>\n",
       "      <td>0.44</td>\n",
       "      <td>0.89</td>\n",
       "      <td>0.29</td>\n",
       "    </tr>\n",
       "    <tr>\n",
       "      <th>6</th>\n",
       "      <td>PU_0.85</td>\n",
       "      <td>0.85</td>\n",
       "      <td>0.29</td>\n",
       "      <td>0.90</td>\n",
       "      <td>0.17</td>\n",
       "    </tr>\n",
       "    <tr>\n",
       "      <th>7</th>\n",
       "      <td>PU_0.99</td>\n",
       "      <td>0.84</td>\n",
       "      <td>0.03</td>\n",
       "      <td>0.86</td>\n",
       "      <td>0.02</td>\n",
       "    </tr>\n",
       "    <tr>\n",
       "      <th>0</th>\n",
       "      <td>classifier</td>\n",
       "      <td>0.80</td>\n",
       "      <td>0.72</td>\n",
       "      <td>0.66</td>\n",
       "      <td>0.78</td>\n",
       "    </tr>\n",
       "  </tbody>\n",
       "</table>\n",
       "</div>"
      ],
      "text/plain": [
       "        model   roc    f1  recall  precision\n",
       "8     PU_0.05  0.80  0.62    0.92       0.47\n",
       "1      PU_0.1  0.82  0.65    0.90       0.50\n",
       "2     PU_0.25  0.83  0.61    0.92       0.45\n",
       "3      PU_0.4  0.83  0.57    0.90       0.42\n",
       "4     PU_0.55  0.84  0.53    0.91       0.37\n",
       "5      PU_0.7  0.84  0.44    0.89       0.29\n",
       "6     PU_0.85  0.85  0.29    0.90       0.17\n",
       "7     PU_0.99  0.84  0.03    0.86       0.02\n",
       "0  classifier  0.80  0.72    0.66       0.78"
      ]
     },
     "execution_count": 140,
     "metadata": {},
     "output_type": "execute_result"
    }
   ],
   "source": [
    "pd.set_option('precision', 2)\n",
    "table = pd.DataFrame.from_records(results)\n",
    "table.sort_values(by=['model'], ascending=True, inplace=True)\n",
    "table"
   ]
  },
  {
   "cell_type": "markdown",
   "metadata": {},
   "source": [
    "### Выводы\n",
    "\n",
    "Получились результаты, которые я не могу однозначно объяснить, но попробую.\n",
    "\n",
    "1.Roc_auc почти не зависит от количества позитивных примеров и совпадает классическим классификатором. Recall PU learning тоже практически не зависит от количества позитивных примеров. Хотя существенно превосходит классический классификатор. Precision имеет максимальное значение при определенной доле позитивов. В моем случае это 10% от всех позитивных ответов. Дальше precision начинает падать. Причем после увеличения доли позитивов до 50% снижение очень резкое.\n",
    "\n",
    "2.Мне кажется, что при использовании PU learning мы получаем сильно смещенный оптимальный порог вероятности. Его обязательно надо определять. Иначе я никак не могу объяснить, что когда доля позитивов стремиться к 100%, так сильно падает precision, при этом roc_auc остается таким же.\n",
    "\n",
    "3.В целом результаты использования PU learning при даже небольшом количестве известных позитивов (от 10% до 25%) дает вполне неплохой результат. И может использоваться как для классификации не до конца размеченной выборки, так и для решения задачи lookalike. Правда, не исключаю, что результаты на других датасетах могут сильно отличаться от текущих."
   ]
  },
  {
   "cell_type": "code",
   "execution_count": null,
   "metadata": {},
   "outputs": [],
   "source": []
  }
 ],
 "metadata": {
  "kernelspec": {
   "display_name": "Python 3",
   "language": "python",
   "name": "python3"
  },
  "language_info": {
   "codemirror_mode": {
    "name": "ipython",
    "version": 3
   },
   "file_extension": ".py",
   "mimetype": "text/x-python",
   "name": "python",
   "nbconvert_exporter": "python",
   "pygments_lexer": "ipython3",
   "version": "3.8.3"
  }
 },
 "nbformat": 4,
 "nbformat_minor": 4
}
